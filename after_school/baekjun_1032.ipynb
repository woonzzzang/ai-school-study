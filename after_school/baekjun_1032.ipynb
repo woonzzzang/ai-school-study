{
 "cells": [
  {
   "cell_type": "code",
   "execution_count": null,
   "metadata": {},
   "outputs": [],
   "source": [
    "word = {}\n",
    "\n",
    "for i in range(int(input())):\n",
    "    file = input()\n",
    "    for j in range(len(file)):\n",
    "        if j not in word.keys():\n",
    "            word[j] = file[j]\n",
    "        else:\n",
    "            if word[j] == file[j]:pass\n",
    "            else: word[j] = '?'\n",
    "\n",
    "for i in (word.values()):\n",
    "    print(i, end = '')\n"
   ]
  }
 ],
 "metadata": {
  "language_info": {
   "name": "python"
  }
 },
 "nbformat": 4,
 "nbformat_minor": 2
}

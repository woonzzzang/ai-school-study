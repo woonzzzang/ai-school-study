{
  "cells": [
    {
      "cell_type": "markdown",
      "metadata": {
        "id": "o2v73J4161tP"
      },
      "source": [
        "벡터 $[0,1,2,3,4,5,6,7,8]$를 먼저 만들고 $3 \\times 3$행렬로 reshape을 합니다."
      ]
    },
    {
      "cell_type": "code",
      "execution_count": 41,
      "metadata": {
        "id": "TRfRuOvT61tT"
      },
      "outputs": [
        {
          "data": {
            "text/plain": [
              "array([[0, 1, 2],\n",
              "       [3, 4, 5],\n",
              "       [6, 7, 8]])"
            ]
          },
          "execution_count": 41,
          "metadata": {},
          "output_type": "execute_result"
        }
      ],
      "source": [
        "import numpy as np\n",
        "\n",
        "x = np.arange(9).reshape(3, 3)\n",
        "x"
      ]
    },
    {
      "cell_type": "markdown",
      "metadata": {
        "id": "_n0Tbfn061tV"
      },
      "source": [
        "$3 \\times 3$ 행렬에 숫자 1을 더하라고 하면 numpy는 모든 항에 1을 더하라는 뜻으로 받아들입니다."
      ]
    },
    {
      "cell_type": "code",
      "execution_count": 42,
      "metadata": {
        "id": "x40xLvgo61tV"
      },
      "outputs": [
        {
          "name": "stdout",
          "output_type": "stream",
          "text": [
            "[[1 2 3]\n",
            " [4 5 6]\n",
            " [7 8 9]]\n"
          ]
        }
      ],
      "source": [
        "# 브로드캐스팅 이용\n",
        "x += 1\n",
        "print(x)\n"
      ]
    },
    {
      "cell_type": "markdown",
      "metadata": {
        "id": "VtovACsJ61tW"
      },
      "source": [
        "$3 \\times 3$ 행렬에 행벡터 $[1,2,3]$을 더하라고 하면 numpy는 각 행에 행벡터 $[1,2,3]$을 더하라는 뜻으로 받아들입니다."
      ]
    },
    {
      "cell_type": "code",
      "execution_count": 43,
      "metadata": {
        "id": "Yyw2M1l861tW"
      },
      "outputs": [
        {
          "name": "stdout",
          "output_type": "stream",
          "text": [
            "[[ 2  4  6]\n",
            " [ 5  7  9]\n",
            " [ 8 10 12]]\n"
          ]
        }
      ],
      "source": [
        "# 브로드캐스팅 이용\n",
        "x += np.array([1, 2, 3])\n",
        "print(x)\n"
      ]
    },
    {
      "cell_type": "markdown",
      "metadata": {
        "id": "mpEReuNC61tW"
      },
      "source": [
        "$3 \\times 3$ 행렬에 열벡터 $\\begin{bmatrix}1\\\\2\\\\3\\end{bmatrix}$을 더하라고 하면 numpy는 각 열에 열벡터 $\\begin{bmatrix}1\\\\2\\\\3\\end{bmatrix}$을 더하라는 뜻으로 받아들입니다."
      ]
    },
    {
      "cell_type": "code",
      "execution_count": 44,
      "metadata": {},
      "outputs": [
        {
          "data": {
            "text/plain": [
              "array([[ 3,  5,  7],\n",
              "       [ 7,  9, 11],\n",
              "       [11, 13, 15]])"
            ]
          },
          "execution_count": 44,
          "metadata": {},
          "output_type": "execute_result"
        }
      ],
      "source": [
        "x += np.array([1, 2, 3]).reshape(3,1)\n",
        "x\n"
      ]
    },
    {
      "cell_type": "code",
      "execution_count": 35,
      "metadata": {
        "id": "bNXf9LYx61tX"
      },
      "outputs": [
        {
          "ename": "ValueError",
          "evalue": "operands could not be broadcast together with shapes (5,5) (3,) (5,5) ",
          "output_type": "error",
          "traceback": [
            "\u001b[0;31m---------------------------------------------------------------------------\u001b[0m",
            "\u001b[0;31mValueError\u001b[0m                                Traceback (most recent call last)",
            "Cell \u001b[0;32mIn[35], line 2\u001b[0m\n\u001b[1;32m      1\u001b[0m \u001b[38;5;66;03m# 브로드캐스팅 이용\u001b[39;00m\n\u001b[0;32m----> 2\u001b[0m x \u001b[38;5;241m+\u001b[39m\u001b[38;5;241m=\u001b[39m np\u001b[38;5;241m.\u001b[39marray([\u001b[38;5;241m1\u001b[39m, \u001b[38;5;241m2\u001b[39m, \u001b[38;5;241m3\u001b[39m])\u001b[38;5;241m.\u001b[39mT\n\u001b[1;32m      3\u001b[0m \u001b[38;5;28mprint\u001b[39m(x)\n\u001b[1;32m      4\u001b[0m \u001b[38;5;66;03m# ????? \u001b[39;00m\n",
            "\u001b[0;31mValueError\u001b[0m: operands could not be broadcast together with shapes (5,5) (3,) (5,5) "
          ]
        }
      ],
      "source": [
        "# 브로드캐스팅 이용\n",
        "x += np.array([1, 2, 3]).T\n",
        "print(x)\n",
        "# ????? "
      ]
    },
    {
      "cell_type": "markdown",
      "metadata": {
        "id": "cSJ1a3rg61tX"
      },
      "source": [
        "### mnist_show.py를 수정하여 2,3,4번째 변형된 이미지가 출력되도록 하시오.  \n",
        "\n",
        "![image-4.png](attachment:image-4.png)"
      ]
    },
    {
      "cell_type": "code",
      "execution_count": 6,
      "metadata": {
        "id": "USfgRpHy61tX"
      },
      "outputs": [],
      "source": [
        "import sys\n",
        "sys.path.append('/home/downtown/new_folder/deep_learning/deep-learning-from-scratch-master') # 각자의 경로로 수정해주세요."
      ]
    },
    {
      "cell_type": "markdown",
      "metadata": {
        "id": "HiNw0VGs61tX"
      },
      "source": [
        "컴퓨터가 이미지를 이해하는 방식은 행렬입니다."
      ]
    },
    {
      "cell_type": "code",
      "execution_count": 8,
      "metadata": {
        "id": "i9Sj5LEo61tY"
      },
      "outputs": [
        {
          "name": "stdout",
          "output_type": "stream",
          "text": [
            "(28, 28)\n",
            "[[  0   0   0   0   0   0   0   0   0   0   0   0   0   0   0   0   0   0   0   0   0   0   0   0   0   0   0   0]\n",
            " [  0   0   0   0   0   0   0   0   0   0   0   0   0   0   0   0   0   0   0   0   0   0   0   0   0   0   0   0]\n",
            " [  0   0   0   0   0   0   0   0   0   0   0   0   0   0   0   0   0   0   0   0   0   0   0   0   0   0   0   0]\n",
            " [  0   0   0   0   0   0   0   0   0   0   0   0   0   0   0   0   0   0   0   0   0   0   0   0   0   0   0   0]\n",
            " [  0   0   0   0   0   0   0   0   0   0   0   0   0   0   0   0   0   0   0   0   0   0   0   0   0   0   0   0]\n",
            " [  0   0   0   0   0   0   0   0   0   0   0   0   3  18  18  18 126 136 175  26 166 255 247 127   0   0   0   0]\n",
            " [  0   0   0   0   0   0   0   0  30  36  94 154 170 253 253 253 253 253 225 172 253 242 195  64   0   0   0   0]\n",
            " [  0   0   0   0   0   0   0  49 238 253 253 253 253 253 253 253 253 251  93  82  82  56  39   0   0   0   0   0]\n",
            " [  0   0   0   0   0   0   0  18 219 253 253 253 253 253 198 182 247 241   0   0   0   0   0   0   0   0   0   0]\n",
            " [  0   0   0   0   0   0   0   0  80 156 107 253 253 205  11   0  43 154   0   0   0   0   0   0   0   0   0   0]\n",
            " [  0   0   0   0   0   0   0   0   0  14   1 154 253  90   0   0   0   0   0   0   0   0   0   0   0   0   0   0]\n",
            " [  0   0   0   0   0   0   0   0   0   0   0 139 253 190   2   0   0   0   0   0   0   0   0   0   0   0   0   0]\n",
            " [  0   0   0   0   0   0   0   0   0   0   0  11 190 253  70   0   0   0   0   0   0   0   0   0   0   0   0   0]\n",
            " [  0   0   0   0   0   0   0   0   0   0   0   0  35 241 225 160 108   1   0   0   0   0   0   0   0   0   0   0]\n",
            " [  0   0   0   0   0   0   0   0   0   0   0   0   0  81 240 253 253 119  25   0   0   0   0   0   0   0   0   0]\n",
            " [  0   0   0   0   0   0   0   0   0   0   0   0   0   0  45 186 253 253 150  27   0   0   0   0   0   0   0   0]\n",
            " [  0   0   0   0   0   0   0   0   0   0   0   0   0   0   0  16  93 252 253 187   0   0   0   0   0   0   0   0]\n",
            " [  0   0   0   0   0   0   0   0   0   0   0   0   0   0   0   0   0 249 253 249  64   0   0   0   0   0   0   0]\n",
            " [  0   0   0   0   0   0   0   0   0   0   0   0   0   0  46 130 183 253 253 207   2   0   0   0   0   0   0   0]\n",
            " [  0   0   0   0   0   0   0   0   0   0   0   0  39 148 229 253 253 253 250 182   0   0   0   0   0   0   0   0]\n",
            " [  0   0   0   0   0   0   0   0   0   0  24 114 221 253 253 253 253 201  78   0   0   0   0   0   0   0   0   0]\n",
            " [  0   0   0   0   0   0   0   0  23  66 213 253 253 253 253 198  81   2   0   0   0   0   0   0   0   0   0   0]\n",
            " [  0   0   0   0   0   0  18 171 219 253 253 253 253 195  80   9   0   0   0   0   0   0   0   0   0   0   0   0]\n",
            " [  0   0   0   0  55 172 226 253 253 253 253 244 133  11   0   0   0   0   0   0   0   0   0   0   0   0   0   0]\n",
            " [  0   0   0   0 136 253 253 253 212 135 132  16   0   0   0   0   0   0   0   0   0   0   0   0   0   0   0   0]\n",
            " [  0   0   0   0   0   0   0   0   0   0   0   0   0   0   0   0   0   0   0   0   0   0   0   0   0   0   0   0]\n",
            " [  0   0   0   0   0   0   0   0   0   0   0   0   0   0   0   0   0   0   0   0   0   0   0   0   0   0   0   0]\n",
            " [  0   0   0   0   0   0   0   0   0   0   0   0   0   0   0   0   0   0   0   0   0   0   0   0   0   0   0   0]]\n"
          ]
        }
      ],
      "source": [
        "import numpy as np\n",
        "from dataset.mnist import load_mnist\n",
        "\n",
        "np.set_printoptions(linewidth=200,threshold=1000)\n",
        "\n",
        "(x_train, t_train), (x_test, t_test) = load_mnist(flatten=False, normalize=False)\n",
        "\n",
        "x = x_train[0][0]\n",
        "\n",
        "print(x.shape)\n",
        "print(x)"
      ]
    },
    {
      "cell_type": "markdown",
      "metadata": {
        "id": "MxuzOfUE61tY"
      },
      "source": [
        "행렬의 항들은 픽셀의 밝기를 나타냅니다.  \n",
        "$255 - [x_{i,j}]$은 스칼라 빼기 행렬이라서 수학에서는 잘못된 표현이지만 파이썬은 $[255 - x_{i,j}]$로 이해합니다.  \n",
        "어두운 픽셀은 밝아지고 밝은 픽셀은 어두워집니다."
      ]
    },
    {
      "cell_type": "code",
      "execution_count": 9,
      "metadata": {
        "id": "MvStZkvd61tZ"
      },
      "outputs": [
        {
          "name": "stdout",
          "output_type": "stream",
          "text": [
            "[[255 255 255 255 255 255 255 255 255 255 255 255 255 255 255 255 255 255 255 255 255 255 255 255 255 255 255 255]\n",
            " [255 255 255 255 255 255 255 255 255 255 255 255 255 255 255 255 255 255 255 255 255 255 255 255 255 255 255 255]\n",
            " [255 255 255 255 255 255 255 255 255 255 255 255 255 255 255 255 255 255 255 255 255 255 255 255 255 255 255 255]\n",
            " [255 255 255 255 255 255 255 255 255 255 255 255 255 255 255 255 255 255 255 255 255 255 255 255 255 255 255 255]\n",
            " [255 255 255 255 255 255 255 255 255 255 255 255 255 255 255 255 255 255 255 255 255 255 255 255 255 255 255 255]\n",
            " [255 255 255 255 255 255 255 255 255 255 255 255 252 237 237 237 129 119  80 229  89   0   8 128 255 255 255 255]\n",
            " [255 255 255 255 255 255 255 255 225 219 161 101  85   2   2   2   2   2  30  83   2  13  60 191 255 255 255 255]\n",
            " [255 255 255 255 255 255 255 206  17   2   2   2   2   2   2   2   2   4 162 173 173 199 216 255 255 255 255 255]\n",
            " [255 255 255 255 255 255 255 237  36   2   2   2   2   2  57  73   8  14 255 255 255 255 255 255 255 255 255 255]\n",
            " [255 255 255 255 255 255 255 255 175  99 148   2   2  50 244 255 212 101 255 255 255 255 255 255 255 255 255 255]\n",
            " [255 255 255 255 255 255 255 255 255 241 254 101   2 165 255 255 255 255 255 255 255 255 255 255 255 255 255 255]\n",
            " [255 255 255 255 255 255 255 255 255 255 255 116   2  65 253 255 255 255 255 255 255 255 255 255 255 255 255 255]\n",
            " [255 255 255 255 255 255 255 255 255 255 255 244  65   2 185 255 255 255 255 255 255 255 255 255 255 255 255 255]\n",
            " [255 255 255 255 255 255 255 255 255 255 255 255 220  14  30  95 147 254 255 255 255 255 255 255 255 255 255 255]\n",
            " [255 255 255 255 255 255 255 255 255 255 255 255 255 174  15   2   2 136 230 255 255 255 255 255 255 255 255 255]\n",
            " [255 255 255 255 255 255 255 255 255 255 255 255 255 255 210  69   2   2 105 228 255 255 255 255 255 255 255 255]\n",
            " [255 255 255 255 255 255 255 255 255 255 255 255 255 255 255 239 162   3   2  68 255 255 255 255 255 255 255 255]\n",
            " [255 255 255 255 255 255 255 255 255 255 255 255 255 255 255 255 255   6   2   6 191 255 255 255 255 255 255 255]\n",
            " [255 255 255 255 255 255 255 255 255 255 255 255 255 255 209 125  72   2   2  48 253 255 255 255 255 255 255 255]\n",
            " [255 255 255 255 255 255 255 255 255 255 255 255 216 107  26   2   2   2   5  73 255 255 255 255 255 255 255 255]\n",
            " [255 255 255 255 255 255 255 255 255 255 231 141  34   2   2   2   2  54 177 255 255 255 255 255 255 255 255 255]\n",
            " [255 255 255 255 255 255 255 255 232 189  42   2   2   2   2  57 174 253 255 255 255 255 255 255 255 255 255 255]\n",
            " [255 255 255 255 255 255 237  84  36   2   2   2   2  60 175 246 255 255 255 255 255 255 255 255 255 255 255 255]\n",
            " [255 255 255 255 200  83  29   2   2   2   2  11 122 244 255 255 255 255 255 255 255 255 255 255 255 255 255 255]\n",
            " [255 255 255 255 119   2   2   2  43 120 123 239 255 255 255 255 255 255 255 255 255 255 255 255 255 255 255 255]\n",
            " [255 255 255 255 255 255 255 255 255 255 255 255 255 255 255 255 255 255 255 255 255 255 255 255 255 255 255 255]\n",
            " [255 255 255 255 255 255 255 255 255 255 255 255 255 255 255 255 255 255 255 255 255 255 255 255 255 255 255 255]\n",
            " [255 255 255 255 255 255 255 255 255 255 255 255 255 255 255 255 255 255 255 255 255 255 255 255 255 255 255 255]]\n"
          ]
        }
      ],
      "source": [
        "print(255 - x)"
      ]
    },
    {
      "cell_type": "markdown",
      "metadata": {
        "id": "2PXkUqqQ61tZ"
      },
      "source": [
        "이미지를 대각선으로 뒤집는 변환은 선형대수학 관점에서는 transpose입니다."
      ]
    },
    {
      "cell_type": "code",
      "execution_count": 10,
      "metadata": {
        "id": "L075NKBb61tZ"
      },
      "outputs": [
        {
          "name": "stdout",
          "output_type": "stream",
          "text": [
            "[[  0   0   0   0   0   0   0   0   0   0   0   0   0   0   0   0   0   0   0   0   0   0   0   0   0   0   0   0]\n",
            " [  0   0   0   0   0   0   0   0   0   0   0   0   0   0   0   0   0   0   0   0   0   0   0   0   0   0   0   0]\n",
            " [  0   0   0   0   0   0   0   0   0   0   0   0   0   0   0   0   0   0   0   0   0   0   0   0   0   0   0   0]\n",
            " [  0   0   0   0   0   0   0   0   0   0   0   0   0   0   0   0   0   0   0   0   0   0   0   0   0   0   0   0]\n",
            " [  0   0   0   0   0   0   0   0   0   0   0   0   0   0   0   0   0   0   0   0   0   0   0  55 136   0   0   0]\n",
            " [  0   0   0   0   0   0   0   0   0   0   0   0   0   0   0   0   0   0   0   0   0   0   0 172 253   0   0   0]\n",
            " [  0   0   0   0   0   0   0   0   0   0   0   0   0   0   0   0   0   0   0   0   0   0  18 226 253   0   0   0]\n",
            " [  0   0   0   0   0   0   0  49  18   0   0   0   0   0   0   0   0   0   0   0   0   0 171 253 253   0   0   0]\n",
            " [  0   0   0   0   0   0  30 238 219  80   0   0   0   0   0   0   0   0   0   0   0  23 219 253 212   0   0   0]\n",
            " [  0   0   0   0   0   0  36 253 253 156  14   0   0   0   0   0   0   0   0   0   0  66 253 253 135   0   0   0]\n",
            " [  0   0   0   0   0   0  94 253 253 107   1   0   0   0   0   0   0   0   0   0  24 213 253 253 132   0   0   0]\n",
            " [  0   0   0   0   0   0 154 253 253 253 154 139  11   0   0   0   0   0   0   0 114 253 253 244  16   0   0   0]\n",
            " [  0   0   0   0   0   3 170 253 253 253 253 253 190  35   0   0   0   0   0  39 221 253 253 133   0   0   0   0]\n",
            " [  0   0   0   0   0  18 253 253 253 205  90 190 253 241  81   0   0   0   0 148 253 253 195  11   0   0   0   0]\n",
            " [  0   0   0   0   0  18 253 253 198  11   0   2  70 225 240  45   0   0  46 229 253 253  80   0   0   0   0   0]\n",
            " [  0   0   0   0   0  18 253 253 182   0   0   0   0 160 253 186  16   0 130 253 253 198   9   0   0   0   0   0]\n",
            " [  0   0   0   0   0 126 253 253 247  43   0   0   0 108 253 253  93   0 183 253 253  81   0   0   0   0   0   0]\n",
            " [  0   0   0   0   0 136 253 251 241 154   0   0   0   1 119 253 252 249 253 253 201   2   0   0   0   0   0   0]\n",
            " [  0   0   0   0   0 175 225  93   0   0   0   0   0   0  25 150 253 253 253 250  78   0   0   0   0   0   0   0]\n",
            " [  0   0   0   0   0  26 172  82   0   0   0   0   0   0   0  27 187 249 207 182   0   0   0   0   0   0   0   0]\n",
            " [  0   0   0   0   0 166 253  82   0   0   0   0   0   0   0   0   0  64   2   0   0   0   0   0   0   0   0   0]\n",
            " [  0   0   0   0   0 255 242  56   0   0   0   0   0   0   0   0   0   0   0   0   0   0   0   0   0   0   0   0]\n",
            " [  0   0   0   0   0 247 195  39   0   0   0   0   0   0   0   0   0   0   0   0   0   0   0   0   0   0   0   0]\n",
            " [  0   0   0   0   0 127  64   0   0   0   0   0   0   0   0   0   0   0   0   0   0   0   0   0   0   0   0   0]\n",
            " [  0   0   0   0   0   0   0   0   0   0   0   0   0   0   0   0   0   0   0   0   0   0   0   0   0   0   0   0]\n",
            " [  0   0   0   0   0   0   0   0   0   0   0   0   0   0   0   0   0   0   0   0   0   0   0   0   0   0   0   0]\n",
            " [  0   0   0   0   0   0   0   0   0   0   0   0   0   0   0   0   0   0   0   0   0   0   0   0   0   0   0   0]\n",
            " [  0   0   0   0   0   0   0   0   0   0   0   0   0   0   0   0   0   0   0   0   0   0   0   0   0   0   0   0]]\n"
          ]
        }
      ],
      "source": [
        "print(x.T)"
      ]
    },
    {
      "cell_type": "markdown",
      "metadata": {
        "id": "mO6p-rTQ61ta"
      },
      "source": [
        "$128 - [x_{i,j}]$은 스칼라 빼기 행렬이라서 수학에서는 잘못된 표현이지만 파이썬은 $[128 - x_{i,j}]$로 이해합니다.  \n",
        "255를 넘어가거나 0보다 작게 되면 시계방식 (modulo 방식)으로 0부터 255로 맞춰줍니다.  \n",
        "어두운 픽셀과 밝은 픽셀은 1회색이 됩니다.  \n",
        "회색 픽셀은 128보다 좀 작으면 어두운 색으로 128보다 좀 크면 밝은색이 됩니다."
      ]
    },
    {
      "cell_type": "code",
      "execution_count": 11,
      "metadata": {
        "id": "eMq82ppN61ta"
      },
      "outputs": [
        {
          "name": "stdout",
          "output_type": "stream",
          "text": [
            "[[128 128 128 128 128 128 128 128 128 128 128 128 128 128 128 128 128 128 128 128 128 128 128 128 128 128 128 128]\n",
            " [128 128 128 128 128 128 128 128 128 128 128 128 128 128 128 128 128 128 128 128 128 128 128 128 128 128 128 128]\n",
            " [128 128 128 128 128 128 128 128 128 128 128 128 128 128 128 128 128 128 128 128 128 128 128 128 128 128 128 128]\n",
            " [128 128 128 128 128 128 128 128 128 128 128 128 128 128 128 128 128 128 128 128 128 128 128 128 128 128 128 128]\n",
            " [128 128 128 128 128 128 128 128 128 128 128 128 128 128 128 128 128 128 128 128 128 128 128 128 128 128 128 128]\n",
            " [128 128 128 128 128 128 128 128 128 128 128 128 125 110 110 110   2 248 209 102 218 129 137   1 128 128 128 128]\n",
            " [128 128 128 128 128 128 128 128  98  92  34 230 214 131 131 131 131 131 159 212 131 142 189  64 128 128 128 128]\n",
            " [128 128 128 128 128 128 128  79 146 131 131 131 131 131 131 131 131 133  35  46  46  72  89 128 128 128 128 128]\n",
            " [128 128 128 128 128 128 128 110 165 131 131 131 131 131 186 202 137 143 128 128 128 128 128 128 128 128 128 128]\n",
            " [128 128 128 128 128 128 128 128  48 228  21 131 131 179 117 128  85 230 128 128 128 128 128 128 128 128 128 128]\n",
            " [128 128 128 128 128 128 128 128 128 114 127 230 131  38 128 128 128 128 128 128 128 128 128 128 128 128 128 128]\n",
            " [128 128 128 128 128 128 128 128 128 128 128 245 131 194 126 128 128 128 128 128 128 128 128 128 128 128 128 128]\n",
            " [128 128 128 128 128 128 128 128 128 128 128 117 194 131  58 128 128 128 128 128 128 128 128 128 128 128 128 128]\n",
            " [128 128 128 128 128 128 128 128 128 128 128 128  93 143 159 224  20 127 128 128 128 128 128 128 128 128 128 128]\n",
            " [128 128 128 128 128 128 128 128 128 128 128 128 128  47 144 131 131   9 103 128 128 128 128 128 128 128 128 128]\n",
            " [128 128 128 128 128 128 128 128 128 128 128 128 128 128  83 198 131 131 234 101 128 128 128 128 128 128 128 128]\n",
            " [128 128 128 128 128 128 128 128 128 128 128 128 128 128 128 112  35 132 131 197 128 128 128 128 128 128 128 128]\n",
            " [128 128 128 128 128 128 128 128 128 128 128 128 128 128 128 128 128 135 131 135  64 128 128 128 128 128 128 128]\n",
            " [128 128 128 128 128 128 128 128 128 128 128 128 128 128  82 254 201 131 131 177 126 128 128 128 128 128 128 128]\n",
            " [128 128 128 128 128 128 128 128 128 128 128 128  89 236 155 131 131 131 134 202 128 128 128 128 128 128 128 128]\n",
            " [128 128 128 128 128 128 128 128 128 128 104  14 163 131 131 131 131 183  50 128 128 128 128 128 128 128 128 128]\n",
            " [128 128 128 128 128 128 128 128 105  62 171 131 131 131 131 186  47 126 128 128 128 128 128 128 128 128 128 128]\n",
            " [128 128 128 128 128 128 110 213 165 131 131 131 131 189  48 119 128 128 128 128 128 128 128 128 128 128 128 128]\n",
            " [128 128 128 128  73 212 158 131 131 131 131 140 251 117 128 128 128 128 128 128 128 128 128 128 128 128 128 128]\n",
            " [128 128 128 128 248 131 131 131 172 249 252 112 128 128 128 128 128 128 128 128 128 128 128 128 128 128 128 128]\n",
            " [128 128 128 128 128 128 128 128 128 128 128 128 128 128 128 128 128 128 128 128 128 128 128 128 128 128 128 128]\n",
            " [128 128 128 128 128 128 128 128 128 128 128 128 128 128 128 128 128 128 128 128 128 128 128 128 128 128 128 128]\n",
            " [128 128 128 128 128 128 128 128 128 128 128 128 128 128 128 128 128 128 128 128 128 128 128 128 128 128 128 128]]\n"
          ]
        }
      ],
      "source": [
        "# 128 은 255 의 약 절반 = 반전을 시키고 싶기는 한데 절반만 주고 싶을 때 128만큼의 노이즈를 준 상태에서 반전시킨다.\n",
        "\n",
        "print(128 - x)\n",
        "\n",
        "# train set 이 작을 때, 이런 기법들을 이용해서 보강, 증강해서 학습 시킨다. \n",
        "# 컴퓨터는 숫자 1개만 달라져도 다른 이미지로 인식하기 때문"
      ]
    },
    {
      "cell_type": "markdown",
      "metadata": {
        "id": "X51rgljl61ta"
      },
      "source": [
        "28×28 해상도의 검정 사진을 먼저 만든후 i열에 원본 이미지의 오른쪽으로부터 세서 i열을 복사합니다.  \n",
        "결과적으로 좌우 반전 시킨 행렬이 됩니다."
      ]
    },
    {
      "cell_type": "code",
      "execution_count": 12,
      "metadata": {
        "id": "2Jo_e80N61ta"
      },
      "outputs": [
        {
          "name": "stdout",
          "output_type": "stream",
          "text": [
            "[[  0   0   0   0   0   0   0   0   0   0   0   0   0   0   0   0   0   0   0   0   0   0   0   0   0   0   0   0]\n",
            " [  0   0   0   0   0   0   0   0   0   0   0   0   0   0   0   0   0   0   0   0   0   0   0   0   0   0   0   0]\n",
            " [  0   0   0   0   0   0   0   0   0   0   0   0   0   0   0   0   0   0   0   0   0   0   0   0   0   0   0   0]\n",
            " [  0   0   0   0   0   0   0   0   0   0   0   0   0   0   0   0   0   0   0   0   0   0   0   0   0   0   0   0]\n",
            " [  0   0   0   0   0   0   0   0   0   0   0   0   0   0   0   0   0   0   0   0   0   0   0   0   0   0   0   0]\n",
            " [  0   0   0   0 127 247 255 166  26 175 136 126  18  18  18   3   0   0   0   0   0   0   0   0   0   0   0   0]\n",
            " [  0   0   0   0  64 195 242 253 172 225 253 253 253 253 253 170 154  94  36  30   0   0   0   0   0   0   0   0]\n",
            " [  0   0   0   0   0  39  56  82  82  93 251 253 253 253 253 253 253 253 253 238  49   0   0   0   0   0   0   0]\n",
            " [  0   0   0   0   0   0   0   0   0   0 241 247 182 198 253 253 253 253 253 219  18   0   0   0   0   0   0   0]\n",
            " [  0   0   0   0   0   0   0   0   0   0 154  43   0  11 205 253 253 107 156  80   0   0   0   0   0   0   0   0]\n",
            " [  0   0   0   0   0   0   0   0   0   0   0   0   0   0  90 253 154   1  14   0   0   0   0   0   0   0   0   0]\n",
            " [  0   0   0   0   0   0   0   0   0   0   0   0   0   2 190 253 139   0   0   0   0   0   0   0   0   0   0   0]\n",
            " [  0   0   0   0   0   0   0   0   0   0   0   0   0  70 253 190  11   0   0   0   0   0   0   0   0   0   0   0]\n",
            " [  0   0   0   0   0   0   0   0   0   0   1 108 160 225 241  35   0   0   0   0   0   0   0   0   0   0   0   0]\n",
            " [  0   0   0   0   0   0   0   0   0  25 119 253 253 240  81   0   0   0   0   0   0   0   0   0   0   0   0   0]\n",
            " [  0   0   0   0   0   0   0   0  27 150 253 253 186  45   0   0   0   0   0   0   0   0   0   0   0   0   0   0]\n",
            " [  0   0   0   0   0   0   0   0 187 253 252  93  16   0   0   0   0   0   0   0   0   0   0   0   0   0   0   0]\n",
            " [  0   0   0   0   0   0   0  64 249 253 249   0   0   0   0   0   0   0   0   0   0   0   0   0   0   0   0   0]\n",
            " [  0   0   0   0   0   0   0   2 207 253 253 183 130  46   0   0   0   0   0   0   0   0   0   0   0   0   0   0]\n",
            " [  0   0   0   0   0   0   0   0 182 250 253 253 253 229 148  39   0   0   0   0   0   0   0   0   0   0   0   0]\n",
            " [  0   0   0   0   0   0   0   0   0  78 201 253 253 253 253 221 114  24   0   0   0   0   0   0   0   0   0   0]\n",
            " [  0   0   0   0   0   0   0   0   0   0   2  81 198 253 253 253 253 213  66  23   0   0   0   0   0   0   0   0]\n",
            " [  0   0   0   0   0   0   0   0   0   0   0   0   9  80 195 253 253 253 253 219 171  18   0   0   0   0   0   0]\n",
            " [  0   0   0   0   0   0   0   0   0   0   0   0   0   0  11 133 244 253 253 253 253 226 172  55   0   0   0   0]\n",
            " [  0   0   0   0   0   0   0   0   0   0   0   0   0   0   0   0  16 132 135 212 253 253 253 136   0   0   0   0]\n",
            " [  0   0   0   0   0   0   0   0   0   0   0   0   0   0   0   0   0   0   0   0   0   0   0   0   0   0   0   0]\n",
            " [  0   0   0   0   0   0   0   0   0   0   0   0   0   0   0   0   0   0   0   0   0   0   0   0   0   0   0   0]\n",
            " [  0   0   0   0   0   0   0   0   0   0   0   0   0   0   0   0   0   0   0   0   0   0   0   0   0   0   0   0]]\n"
          ]
        }
      ],
      "source": [
        "x1 = np.zeros((28,28), dtype=int)\n",
        "for i in range(28):\n",
        "    x1[:,i] = x[:, 27 - i] # 행은 그대로 가져오되 열 값만 반전 (거울모드)\n",
        "print(x1)"
      ]
    },
    {
      "cell_type": "markdown",
      "metadata": {
        "id": "UACzHYnV61tb"
      },
      "source": [
        "28×28 해상도의 검정 사진을 먼저 만든후 i행에 원본 이미지의 아래로부터 세서 i행을 복사합니다.  \n",
        "결과적으로 상하 반전 시킨 행렬이 됩니다."
      ]
    },
    {
      "cell_type": "code",
      "execution_count": 13,
      "metadata": {
        "id": "6Pct9VKd61tb"
      },
      "outputs": [
        {
          "name": "stdout",
          "output_type": "stream",
          "text": [
            "[[  0   0   0   0   0   0   0   0   0   0   0   0   0   0   0   0   0   0   0   0   0   0   0   0   0   0   0   0]\n",
            " [  0   0   0   0   0   0   0   0   0   0   0   0   0   0   0   0   0   0   0   0   0   0   0   0   0   0   0   0]\n",
            " [  0   0   0   0   0   0   0   0   0   0   0   0   0   0   0   0   0   0   0   0   0   0   0   0   0   0   0   0]\n",
            " [  0   0   0   0 136 253 253 253 212 135 132  16   0   0   0   0   0   0   0   0   0   0   0   0   0   0   0   0]\n",
            " [  0   0   0   0  55 172 226 253 253 253 253 244 133  11   0   0   0   0   0   0   0   0   0   0   0   0   0   0]\n",
            " [  0   0   0   0   0   0  18 171 219 253 253 253 253 195  80   9   0   0   0   0   0   0   0   0   0   0   0   0]\n",
            " [  0   0   0   0   0   0   0   0  23  66 213 253 253 253 253 198  81   2   0   0   0   0   0   0   0   0   0   0]\n",
            " [  0   0   0   0   0   0   0   0   0   0  24 114 221 253 253 253 253 201  78   0   0   0   0   0   0   0   0   0]\n",
            " [  0   0   0   0   0   0   0   0   0   0   0   0  39 148 229 253 253 253 250 182   0   0   0   0   0   0   0   0]\n",
            " [  0   0   0   0   0   0   0   0   0   0   0   0   0   0  46 130 183 253 253 207   2   0   0   0   0   0   0   0]\n",
            " [  0   0   0   0   0   0   0   0   0   0   0   0   0   0   0   0   0 249 253 249  64   0   0   0   0   0   0   0]\n",
            " [  0   0   0   0   0   0   0   0   0   0   0   0   0   0   0  16  93 252 253 187   0   0   0   0   0   0   0   0]\n",
            " [  0   0   0   0   0   0   0   0   0   0   0   0   0   0  45 186 253 253 150  27   0   0   0   0   0   0   0   0]\n",
            " [  0   0   0   0   0   0   0   0   0   0   0   0   0  81 240 253 253 119  25   0   0   0   0   0   0   0   0   0]\n",
            " [  0   0   0   0   0   0   0   0   0   0   0   0  35 241 225 160 108   1   0   0   0   0   0   0   0   0   0   0]\n",
            " [  0   0   0   0   0   0   0   0   0   0   0  11 190 253  70   0   0   0   0   0   0   0   0   0   0   0   0   0]\n",
            " [  0   0   0   0   0   0   0   0   0   0   0 139 253 190   2   0   0   0   0   0   0   0   0   0   0   0   0   0]\n",
            " [  0   0   0   0   0   0   0   0   0  14   1 154 253  90   0   0   0   0   0   0   0   0   0   0   0   0   0   0]\n",
            " [  0   0   0   0   0   0   0   0  80 156 107 253 253 205  11   0  43 154   0   0   0   0   0   0   0   0   0   0]\n",
            " [  0   0   0   0   0   0   0  18 219 253 253 253 253 253 198 182 247 241   0   0   0   0   0   0   0   0   0   0]\n",
            " [  0   0   0   0   0   0   0  49 238 253 253 253 253 253 253 253 253 251  93  82  82  56  39   0   0   0   0   0]\n",
            " [  0   0   0   0   0   0   0   0  30  36  94 154 170 253 253 253 253 253 225 172 253 242 195  64   0   0   0   0]\n",
            " [  0   0   0   0   0   0   0   0   0   0   0   0   3  18  18  18 126 136 175  26 166 255 247 127   0   0   0   0]\n",
            " [  0   0   0   0   0   0   0   0   0   0   0   0   0   0   0   0   0   0   0   0   0   0   0   0   0   0   0   0]\n",
            " [  0   0   0   0   0   0   0   0   0   0   0   0   0   0   0   0   0   0   0   0   0   0   0   0   0   0   0   0]\n",
            " [  0   0   0   0   0   0   0   0   0   0   0   0   0   0   0   0   0   0   0   0   0   0   0   0   0   0   0   0]\n",
            " [  0   0   0   0   0   0   0   0   0   0   0   0   0   0   0   0   0   0   0   0   0   0   0   0   0   0   0   0]\n",
            " [  0   0   0   0   0   0   0   0   0   0   0   0   0   0   0   0   0   0   0   0   0   0   0   0   0   0   0   0]]\n"
          ]
        }
      ],
      "source": [
        "x2 = np.zeros((28,28), dtype=int)\n",
        "for i in range(28):\n",
        "    x2[i,:] = x[27-i, :]\n",
        "print(x2)"
      ]
    },
    {
      "cell_type": "markdown",
      "metadata": {
        "id": "UMA-w3oa61tb"
      },
      "source": [
        "따라서, 마지막 줄 코드 img_show(img)를 간단히 img_show(255 - img)와 img_show(img.T)로 수정해주면 두번째와 세번째 이미지를 각각 얻을수 있습니다.\n",
        "\n",
        "주피터 노트북에서 이미지를 출력하기 위해서 PIL 라이브러리 대신 plt.imshow를 사용하겠습니다."
      ]
    },
    {
      "cell_type": "code",
      "execution_count": 14,
      "metadata": {
        "id": "IyTKUcj461tb",
        "scrolled": false
      },
      "outputs": [
        {
          "data": {
            "image/png": "[encoded data removed]",
            "text/plain": [
              "<Figure size 640x480 with 1 Axes>"
            ]
          },
          "metadata": {},
          "output_type": "display_data"
        },
        {
          "data": {
            "image/png": "[encoded data removed]",
            "text/plain": [
              "<Figure size 640x480 with 1 Axes>"
            ]
          },
          "metadata": {},
          "output_type": "display_data"
        },
        {
          "data": {
            "image/png": "[encoded data removed]",
            "text/plain": [
              "<Figure size 640x480 with 1 Axes>"
            ]
          },
          "metadata": {},
          "output_type": "display_data"
        },
        {
          "data": {
            "image/png": "[encoded data removed]",
            "text/plain": [
              "<Figure size 640x480 with 1 Axes>"
            ]
          },
          "metadata": {},
          "output_type": "display_data"
        },
        {
          "data": {
            "image/png": "[encoded data removed]",
            "text/plain": [
              "<Figure size 640x480 with 1 Axes>"
            ]
          },
          "metadata": {},
          "output_type": "display_data"
        },
        {
          "data": {
            "image/png": "[encoded data removed]",
            "text/plain": [
              "<Figure size 640x480 with 1 Axes>"
            ]
          },
          "metadata": {},
          "output_type": "display_data"
        }
      ],
      "source": [
        "import matplotlib.pyplot as plt\n",
        "\n",
        "x = x_train[0][0]\n",
        "\n",
        "plt.imshow(x, cmap=plt.cm.gray)\n",
        "plt.xticks([])\n",
        "plt.yticks([])\n",
        "plt.show()\n",
        "\n",
        "plt.imshow(255 - x, cmap=plt.cm.gray)\n",
        "plt.xticks([])\n",
        "plt.yticks([])\n",
        "plt.show()\n",
        "\n",
        "plt.imshow(x.T, cmap=plt.cm.gray)\n",
        "plt.xticks([])\n",
        "plt.yticks([])\n",
        "plt.show()\n",
        "\n",
        "plt.imshow(128 - x, cmap=plt.cm.gray)\n",
        "plt.xticks([])\n",
        "plt.yticks([])\n",
        "plt.show()\n",
        "\n",
        "x1 = np.zeros((28,28), dtype=int)\n",
        "for i in range(28):\n",
        "    x1[:,i] = x[:,27-i]\n",
        "plt.imshow(x1, cmap=plt.cm.gray)\n",
        "plt.xticks([])\n",
        "plt.yticks([])\n",
        "plt.show()\n",
        "\n",
        "x2 = np.zeros((28,28), dtype=int)\n",
        "for i in range(28):\n",
        "    x2[i,:] = x[27-i,:]\n",
        "plt.imshow(x2, cmap=plt.cm.gray)\n",
        "plt.xticks([])\n",
        "plt.yticks([])\n",
        "plt.show()"
      ]
    },
    {
      "cell_type": "code",
      "execution_count": null,
      "metadata": {},
      "outputs": [],
      "source": [
        "# 평가지표 뿐 아니라 항상 plt.show로 직접 눈으로 확인하도록 한다."
      ]
    },
    {
      "cell_type": "markdown",
      "metadata": {
        "id": "X2AReeF_61tc"
      },
      "source": [
        "### 적절한 5 X 5 행렬에 `plt.imshow`를 적용하여 다음 여섯 이미지를 출력하시오. (cmap=plt.cm.gray)\n",
        "![image.png](attachment:image.png)"
      ]
    },
    {
      "cell_type": "markdown",
      "metadata": {
        "id": "xhoa_JZC61tc"
      },
      "source": [
        "작은 사각형 하나 하나가 픽셀입니다. $5 \\times 5$ 해상도 이미지네요.\n",
        "밝기의 패턴을 보고 $5 \\times 5$ 행렬을 만듭니다."
      ]
    },
    {
      "cell_type": "code",
      "execution_count": 15,
      "metadata": {
        "id": "894QB3Xd61tc"
      },
      "outputs": [
        {
          "name": "stdout",
          "output_type": "stream",
          "text": [
            "[[ 0  1  2  3  4]\n",
            " [ 5  6  7  8  9]\n",
            " [10 11 12 13 14]\n",
            " [15 16 17 18 19]\n",
            " [20 21 22 23 24]]\n"
          ]
        }
      ],
      "source": [
        "x = np.arange(25).reshape(5, 5)\n",
        "print(x)"
      ]
    },
    {
      "cell_type": "markdown",
      "metadata": {
        "id": "2uMws54B61tc"
      },
      "source": [
        "plt.imshow를 이용해 행렬을 이미지로 변환합니다."
      ]
    },
    {
      "cell_type": "code",
      "execution_count": 16,
      "metadata": {
        "id": "y9UHomJT61td"
      },
      "outputs": [
        {
          "data": {
            "image/png": "[encoded data removed]",
            "text/plain": [
              "<Figure size 640x480 with 1 Axes>"
            ]
          },
          "metadata": {},
          "output_type": "display_data"
        }
      ],
      "source": [
        "plt.imshow(x,cmap=plt.cm.gray)\n",
        "plt.xticks([])\n",
        "plt.yticks([])\n",
        "plt.show()"
      ]
    },
    {
      "cell_type": "markdown",
      "metadata": {
        "id": "PQWkrVhW61td"
      },
      "source": [
        "transpose를 합니다."
      ]
    },
    {
      "cell_type": "code",
      "execution_count": 17,
      "metadata": {
        "id": "zqNJWmSt61td"
      },
      "outputs": [
        {
          "data": {
            "image/png": "[encoded data removed]",
            "text/plain": [
              "<Figure size 640x480 with 1 Axes>"
            ]
          },
          "metadata": {},
          "output_type": "display_data"
        }
      ],
      "source": [
        "plt.imshow(x.T,cmap=plt.cm.gray)\n",
        "plt.xticks([])\n",
        "plt.yticks([])\n",
        "plt.show()"
      ]
    },
    {
      "cell_type": "markdown",
      "metadata": {
        "id": "rPKeloVc61td"
      },
      "source": [
        "밝은 픽셀은 어둡게 어두운 픽셀은 밝게 뒤집습니다.\n",
        "최대 밝기가 24이므로 24에서 빼주면 대소관계가 뒤집힙니다.\n",
        "행렬로 쓸필요 없이 숫자 24에서 빼면 파이썬이 브로드케스팅으로 처리합니다."
      ]
    },
    {
      "cell_type": "code",
      "execution_count": 18,
      "metadata": {
        "id": "DJQYIDtg61te"
      },
      "outputs": [
        {
          "data": {
            "image/png": "[encoded data removed]",
            "text/plain": [
              "<Figure size 640x480 with 1 Axes>"
            ]
          },
          "metadata": {},
          "output_type": "display_data"
        }
      ],
      "source": [
        "plt.imshow(24-x,cmap=plt.cm.gray)\n",
        "plt.xticks([])\n",
        "plt.yticks([])\n",
        "plt.show()"
      ]
    },
    {
      "cell_type": "markdown",
      "metadata": {
        "id": "KtqZw2kG61te"
      },
      "source": [
        "중앙행만 1이고 나머지는 0인 행렬을 만듭니다.\n",
        "파이썬은 0부터 출발하기 때문에 2행이 중앙행입니다."
      ]
    },
    {
      "cell_type": "code",
      "execution_count": 21,
      "metadata": {
        "id": "dUzGdfyA61te"
      },
      "outputs": [
        {
          "name": "stdout",
          "output_type": "stream",
          "text": [
            "[[0. 0. 0. 0. 0.]\n",
            " [0. 0. 0. 0. 0.]\n",
            " [1. 1. 1. 1. 1.]\n",
            " [0. 0. 0. 0. 0.]\n",
            " [0. 0. 0. 0. 0.]]\n"
          ]
        }
      ],
      "source": [
        "x1=np.zeros((5,5))\n",
        "x1[2,:]=1\n",
        "print(x1)"
      ]
    },
    {
      "cell_type": "code",
      "execution_count": 20,
      "metadata": {
        "id": "N4m52uF061te"
      },
      "outputs": [
        {
          "data": {
            "image/png": "[encoded data removed]",
            "text/plain": [
              "<Figure size 640x480 with 1 Axes>"
            ]
          },
          "metadata": {},
          "output_type": "display_data"
        }
      ],
      "source": [
        "plt.imshow(x1,cmap=plt.cm.gray)\n",
        "plt.xticks([])\n",
        "plt.yticks([])\n",
        "plt.show()"
      ]
    },
    {
      "cell_type": "markdown",
      "metadata": {
        "id": "sUd5iBPN61tf"
      },
      "source": [
        "중앙열만 1이고 나머지는 0인 행렬을 만듭니다. 파이썬은 0부터 출발하기 때문에 2열이 중앙열입니다."
      ]
    },
    {
      "cell_type": "code",
      "execution_count": 22,
      "metadata": {
        "id": "hkwtwpMB61tf"
      },
      "outputs": [
        {
          "name": "stdout",
          "output_type": "stream",
          "text": [
            "[[0. 0. 1. 0. 0.]\n",
            " [0. 0. 1. 0. 0.]\n",
            " [0. 0. 1. 0. 0.]\n",
            " [0. 0. 1. 0. 0.]\n",
            " [0. 0. 1. 0. 0.]]\n"
          ]
        }
      ],
      "source": [
        "x2=np.zeros((5,5))\n",
        "x2[:,2]=1\n",
        "print(x2)"
      ]
    },
    {
      "cell_type": "code",
      "execution_count": 23,
      "metadata": {
        "id": "ygykbON961tf"
      },
      "outputs": [
        {
          "data": {
            "image/png": "[encoded data removed]",
            "text/plain": [
              "<Figure size 640x480 with 1 Axes>"
            ]
          },
          "metadata": {},
          "output_type": "display_data"
        }
      ],
      "source": [
        "plt.imshow(x2,cmap=plt.cm.gray)\n",
        "plt.xticks([])\n",
        "plt.yticks([])\n",
        "plt.show()"
      ]
    },
    {
      "cell_type": "markdown",
      "metadata": {
        "id": "ou5tzM_o61tg"
      },
      "source": [
        "두 행렬을 더합니다."
      ]
    },
    {
      "cell_type": "code",
      "execution_count": 24,
      "metadata": {
        "id": "Ln_BWgRh61tg"
      },
      "outputs": [
        {
          "name": "stdout",
          "output_type": "stream",
          "text": [
            "[[0. 0. 1. 0. 0.]\n",
            " [0. 0. 1. 0. 0.]\n",
            " [1. 1. 2. 1. 1.]\n",
            " [0. 0. 1. 0. 0.]\n",
            " [0. 0. 1. 0. 0.]]\n"
          ]
        },
        {
          "data": {
            "image/png": "[encoded data removed]",
            "text/plain": [
              "<Figure size 640x480 with 1 Axes>"
            ]
          },
          "metadata": {},
          "output_type": "display_data"
        }
      ],
      "source": [
        "print(x1+x2)\n",
        "\n",
        "plt.imshow(x1+x2,cmap=plt.cm.gray)\n",
        "plt.xticks([])\n",
        "plt.yticks([])\n",
        "plt.show()"
      ]
    },
    {
      "cell_type": "code",
      "execution_count": null,
      "metadata": {},
      "outputs": [],
      "source": [
        "# 색안경 같은 이미지를 생성해서 기존 이미지에 더해서 노이즈가 낀 이미지를 새롭게 만들 수 있다.\n",
        "# 컴퓨터에게 더 어려운 이미지 학습"
      ]
    },
    {
      "cell_type": "markdown",
      "metadata": {
        "id": "C5ABSW8W61tg"
      },
      "source": [
        "####  훈련데이터의 라벨별 데이터 개수를 출력하는 코드"
      ]
    },
    {
      "cell_type": "code",
      "execution_count": 25,
      "metadata": {
        "id": "e8e6BGO161tg"
      },
      "outputs": [
        {
          "name": "stdout",
          "output_type": "stream",
          "text": [
            "0의 개수 : 5923\n",
            "1의 개수 : 6742\n",
            "2의 개수 : 5958\n",
            "3의 개수 : 6131\n",
            "4의 개수 : 5842\n",
            "5의 개수 : 5421\n",
            "6의 개수 : 5918\n",
            "7의 개수 : 6265\n",
            "8의 개수 : 5851\n",
            "9의 개수 : 5949\n"
          ]
        }
      ],
      "source": [
        "for i in range(10):\n",
        "    print(str(i)+'의 개수 : ' + str(np.sum(t_train==i)))\n",
        "\n",
        "# 데이터의 발란스 확인을 위해, mnist 데이터셋에 있는 데이터의 개수 확인 작업, 로버스트한 모델을 만들기 위해"
      ]
    },
    {
      "cell_type": "markdown",
      "metadata": {
        "id": "l821uzY261tg"
      },
      "source": [
        "### MNIST imshow.py를 수정하여 훈련용 MNIST데이터중 라벨이 2인 데이터 첫 25개를 다음과 같이 출력하시오.\n",
        "![image.png](attachment:image.png)"
      ]
    },
    {
      "cell_type": "markdown",
      "metadata": {
        "id": "5cPJpc8K61th"
      },
      "source": [
        "라벨이 2인 인덱스를 모은 리스트를 먼저 만듭니다."
      ]
    },
    {
      "cell_type": "code",
      "execution_count": 26,
      "metadata": {
        "id": "CTeWkX0X61th"
      },
      "outputs": [
        {
          "name": "stdout",
          "output_type": "stream",
          "text": [
            "[5, 16, 25, 28, 76, 82, 109, 117, 120, 122, 143, 159, 161, 171, 178, 180, 187, 189, 190, 199, 213, 220, 233, 252, 253, 262, 268, 277, 308, 317, 318, 325, 339, 347, 360, 365, 375, 378, 381, 385, 390, 391, 400, 410, 432, 444, 448, 457, 472, 476, 477, 493, 515, 530, 548, 551, 555, 558, 563, 568, 570, 584, 588, 591, 619, 642, 646, 650, 657, 664, 673, 674, 684, 688, 693, 696, 713, 714, 716, 732, 774, 801, 807, 813, 814, 830, 844, 854, 862, 863, 866, 873, 893, 907, 917, 931, 938, 946, 989, 1010, 1011, 1033, 1034, 1047, 1048, 1053, 1058, 1074, 1096, 1124, 1129, 1134, 1140, 1143, 1165, 1175, 1183, 1188, 1199, 1213, 1246, 1249, 1255, 1262, 1264, 1270, 1299, 1301, 1330, 1334, 1361, 1374, 1385, 1390, 1391, 1395, 1397, 1407, 1427, 1438, 1444, 1447, 1478, 1492, 1510, 1531, 1539, 1549, 1550, 1558, 1561, 1563, 1572, 1573, 1584, 1595, 1602, 1609, 1614, 1624, 1629, 1648, 1649, 1660, 1662, 1679, 1711, 1714, 1715, 1724, 1727, 1735, 1753, 1754, 1755, 1766, 1774, 1800, 1823, 1841, 1852, 1861, 1874, 1880, 1881, 1888, 1894, 1896, 1900, 1920, 1923, 1947, 1952, 1954, 1972, 1987, 1988, 1998, 2004, 2010, 2017, 2019, 2022, 2053, 2065, 2073, 2075, 2078, 2085, 2104, 2105, 2125, 2171, 2184, 2189, 2201, 2205, 2234, 2251, 2261, 2270, 2273, 2280, 2283, 2288, 2305, 2309, 2314, 2322, 2332, 2337, 2342, 2346, 2354, 2357, 2377, 2389, 2399, 2402, 2409, 2418, 2450, 2454, 2457, 2464, 2472, 2499, 2508, 2510, 2513, 2517, 2518, 2534, 2550, 2565, 2585, 2601, 2625, 2626, 2641, 2648, 2664, 2670, 2684, 2693, 2694, 2700, 2714, 2721, 2733, 2738, 2748, 2749, 2769, 2783, 2790, 2792, 2802, 2812, 2813, 2824, 2838, 2840, 2846, 2847, 2851, 2855, 2866, 2875, 2877, 2879, 2887, 2892, 2908, 2936, 2939, 2959, 2976, 2979, 3006, 3017, 3023, 3042, 3054, 3064, 3077, 3078, 3102, 3105, 3112, 3133, 3134, 3142, 3147, 3156, 3161, 3165, 3166, 3176, 3179, 3199, 3200, 3208, 3224, 3242, 3244, 3274, 3300, 3304, 3305, 3307, 3308, 3313, 3329, 3333, 3339, 3341, 3342, 3357, 3362, 3381, 3390, 3395, 3413, 3444, 3470, 3486, 3536, 3553, 3557, 3564, 3569, 3574, 3578, 3582, 3589, 3607, 3627, 3642, 3647, 3659, 3660, 3672, 3676, 3679, 3680, 3710, 3712, 3719, 3722, 3741, 3748, 3765, 3791, 3799, 3813, 3826, 3830, 3833, 3836, 3848, 3853, 3871, 3879, 3880, 3886, 3890, 3902, 3917, 3924, 3930, 3934, 3965, 3975, 3980, 3981, 3989, 4005, 4016, 4028, 4031, 4051, 4071, 4080, 4086, 4096, 4111, 4144, 4153, 4157, 4165, 4182, 4183, 4185, 4187, 4204, 4208, 4212, 4230, 4241, 4269, 4278, 4293, 4322, 4341, 4355, 4371, 4380, 4398, 4401, 4414, 4427, 4428, 4437, 4442, 4446, 4451, 4457, 4469, 4474, 4476, 4489, 4509, 4514, 4518, 4541, 4542, 4550, 4574, 4576, 4599, 4603, 4610, 4646, 4648, 4649, 4650, 4651, 4662, 4664, 4679, 4687, 4697, 4701, 4706, 4714, 4716, 4717, 4722, 4733, 4753, 4777, 4805, 4819, 4835, 4843, 4846, 4851, 4856, 4880, 4914, 4915, 4935, 4938, 4955, 4986, 4997, 4999, 5013, 5016, 5065, 5076, 5094, 5095, 5103, 5104, 5110, 5113, 5129, 5135, 5151, 5156, 5162, 5166, 5171, 5191, 5216, 5227, 5232, 5236, 5241, 5247, 5250, 5258, 5259, 5289, 5297, 5306, 5307, 5314, 5318, 5345, 5357, 5377, 5380, 5397, 5400, 5415, 5420, 5421, 5436, 5438, 5449, 5480, 5481, 5508, 5509, 5528, 5529, 5545, 5602, 5618, 5624, 5638, 5647, 5656, 5659, 5677, 5700, 5706, 5707, 5715, 5722, 5724, 5733, 5744, 5751, 5758, 5762, 5790, 5815, 5816, 5823, 5841, 5843, 5845, 5867, 5885, 5890, 5895, 5900, 5902, 5907, 5908, 5909, 5914, 5928, 5952, 5965, 5985, 5988, 6005, 6012, 6038, 6039, 6044, 6055, 6056, 6060, 6063, 6079, 6080, 6099, 6105, 6114, 6124, 6125, 6126, 6138, 6143, 6144, 6161, 6168, 6172, 6190, 6204, 6211, 6212, 6222, 6231, 6249, 6252, 6270, 6273, 6289, 6307, 6327, 6344, 6348, 6349, 6360, 6377, 6386, 6391, 6414, 6425, 6442, 6445, 6465, 6466, 6478, 6480, 6492, 6494, 6505, 6515, 6540, 6547, 6549, 6605, 6624, 6626, 6627, 6628, 6633, 6637, 6639, 6642, 6649, 6685, 6725, 6743, 6755, 6764, 6771, 6773, 6780, 6805, 6811, 6815, 6839, 6841, 6846, 6860, 6861, 6899, 6910, 6919, 6921, 6933, 6937, 6944, 6948, 6974, 6992, 7005, 7014, 7029, 7041, 7072, 7079, 7082, 7088, 7093, 7107, 7139, 7140, 7146, 7153, 7161, 7170, 7177, 7187, 7196, 7207, 7223, 7242, 7257, 7259, 7262, 7265, 7266, 7292, 7313, 7326, 7337, 7344, 7347, 7353, 7360, 7369, 7370, 7375, 7392, 7394, 7395, 7408, 7413, 7414, 7428, 7431, 7432, 7467, 7473, 7476, 7484, 7486, 7500, 7510, 7520, 7523, 7528, 7537, 7554, 7555, 7567, 7576, 7587, 7594, 7601, 7612, 7614, 7615, 7619, 7624, 7628, 7633, 7646, 7653, 7654, 7673, 7688, 7695, 7706, 7719, 7732, 7736, 7743, 7758, 7760, 7772, 7776, 7780, 7782, 7787, 7790, 7792, 7796, 7801, 7818, 7823, 7827, 7839, 7859, 7870, 7879, 7895, 7897, 7916, 7920, 7929, 7933, 7939, 7942, 7953, 7960, 7983, 7986, 8002, 8007, 8024, 8025, 8043, 8058, 8078, 8082, 8097, 8102, 8133, 8152, 8154, 8201, 8202, 8204, 8211, 8212, 8226, 8229, 8251, 8257, 8277, 8292, 8293, 8334, 8342, 8372, 8374, 8390, 8403, 8411, 8413, 8428, 8433, 8443, 8446, 8453, 8460, 8470, 8473, 8474, 8480, 8490, 8493, 8552, 8564, 8565, 8573, 8582, 8591, 8593, 8598, 8599, 8609, 8611, 8613, 8614, 8617, 8631, 8632, 8640, 8670, 8691, 8707, 8727, 8740, 8742, 8743, 8749, 8752, 8784, 8793, 8810, 8831, 8833, 8834, 8841, 8843, 8844, 8852, 8853, 8858, 8864, 8878, 8883, 8886, 8905, 8921, 8922, 8924, 8939, 8952, 8960, 8966, 8972, 8977, 8978, 8983, 8993, 8997, 9021, 9031, 9036, 9054, 9087, 9092, 9098, 9104, 9105, 9135, 9169, 9179, 9186, 9193, 9203, 9211, 9212, 9218, 9231, 9242, 9246, 9248, 9249, 9252, 9258, 9266, 9271, 9284, 9301, 9317, 9318, 9333, 9360, 9371, 9374, 9377, 9383, 9396, 9398, 9449, 9471, 9472, 9477, 9479, 9484, 9488, 9489, 9508, 9509, 9518, 9527, 9542, 9546, 9569, 9572, 9575, 9583, 9600, 9604, 9625, 9627, 9658, 9668, 9672, 9682, 9689, 9712, 9715, 9721, 9722, 9725, 9727, 9736, 9737, 9748, 9756, 9757, 9772, 9776, 9777, 9780, 9809, 9819, 9826, 9830, 9836, 9841, 9850, 9853, 9855, 9862, 9891, 9894, 9897, 9912, 9923, 9939, 9962, 9964, 9972, 9979, 9989, 10009, 10016, 10024, 10029, 10072, 10073, 10075, 10078, 10081, 10082, 10084, 10087, 10090, 10100, 10106, 10113, 10117, 10122, 10127, 10130, 10138, 10158, 10194, 10200, 10207, 10228, 10256, 10264, 10279, 10291, 10300, 10308, 10312, 10317, 10321, 10327, 10347, 10354, 10367, 10368, 10403, 10406, 10411, 10417, 10429, 10436, 10464, 10472, 10476, 10477, 10497, 10502, 10514, 10526, 10528, 10535, 10554, 10567, 10570, 10574, 10582, 10583, 10603, 10616, 10620, 10629, 10657, 10673, 10680, 10687, 10688, 10699, 10707, 10714, 10723, 10739, 10766, 10776, 10785, 10802, 10805, 10824, 10825, 10846, 10898, 10920, 10931, 10941, 10945, 10949, 10957, 10959, 10962, 10972, 10978, 10988, 10999, 11006, 11013, 11017, 11018, 11030, 11032, 11033, 11066, 11081, 11084, 11086, 11095, 11106, 11109, 11110, 11147, 11163, 11193, 11203, 11230, 11242, 11243, 11250, 11251, 11257, 11271, 11286, 11298, 11299, 11306, 11319, 11339, 11344, 11346, 11364, 11380, 11384, 11394, 11420, 11436, 11438, 11443, 11446, 11449, 11458, 11475, 11491, 11493, 11503, 11519, 11521, 11531, 11552, 11560, 11563, 11576, 11581, 11600, 11601, 11621, 11632, 11648, 11655, 11667, 11700, 11711, 11718, 11727, 11737, 11738, 11748, 11772, 11774, 11795, 11811, 11812, 11826, 11841, 11844, 11856, 11865, 11869, 11896, 11899, 11961, 11971, 11977, 11997, 12015, 12053, 12079, 12091, 12093, 12129, 12135, 12156, 12161, 12196, 12204, 12213, 12223, 12234, 12238, 12243, 12254, 12263, 12281, 12286, 12299, 12302, 12311, 12352, 12361, 12366, 12370, 12372, 12385, 12404, 12409, 12422, 12424, 12426, 12435, 12445, 12447, 12461, 12474, 12481, 12501, 12514, 12517, 12549, 12551, 12559, 12560, 12582, 12585, 12587, 12598, 12603, 12608, 12620, 12621, 12672, 12679, 12682, 12707, 12718, 12727, 12740, 12745, 12752, 12766, 12784, 12797, 12802, 12803, 12808, 12815, 12822, 12823, 12844, 12854, 12858, 12859, 12860, 12861, 12864, 12871, 12875, 12906, 12911, 12916, 12931, 12938, 12950, 12951, 12954, 12985, 13015, 13019, 13022, 13023, 13031, 13038, 13039, 13043, 13059, 13061, 13082, 13086, 13100, 13121, 13138, 13139, 13148, 13156, 13159, 13179, 13198, 13200, 13249, 13257, 13275, 13277, 13287, 13295, 13299, 13310, 13313, 13330, 13370, 13374, 13381, 13384, 13401, 13406, 13415, 13432, 13434, 13452, 13455, 13484, 13486, 13490, 13491, 13495, 13503, 13506, 13508, 13522, 13523, 13525, 13527, 13535, 13550, 13552, 13585, 13586, 13606, 13612, 13613, 13624, 13627, 13645, 13654, 13667, 13690, 13693, 13694, 13705, 13722, 13735, 13741, 13743, 13761, 13762, 13771, 13774, 13804, 13818, 13820, 13837, 13844, 13857, 13877, 13910, 13914, 13919, 13922, 13925, 13928, 13930, 13952, 13953, 13959, 13972, 13984, 13994, 14005, 14007, 14023, 14024, 14040, 14043, 14050, 14063, 14081, 14084, 14091, 14108, 14112, 14113, 14118, 14121, 14124, 14125, 14130, 14132, 14139, 14163, 14174, 14215, 14230, 14244, 14264, 14267, 14273, 14295, 14302, 14340, 14342, 14343, 14355, 14357, 14363, 14369, 14373, 14378, 14381, 14392, 14422, 14429, 14446, 14458, 14465, 14468, 14484, 14490, 14508, 14510, 14515, 14517, 14523, 14550, 14551, 14555, 14569, 14596, 14603, 14617, 14633, 14646, 14653, 14694, 14702, 14711, 14760, 14763, 14771, 14776, 14797, 14798, 14800, 14807, 14809, 14819, 14835, 14836, 14837, 14838, 14847, 14852, 14861, 14868, 14876, 14881, 14901, 14914, 14932, 14938, 14962, 14978, 14996, 15005, 15013, 15016, 15030, 15039, 15040, 15055, 15057, 15067, 15083, 15093, 15094, 15107, 15123, 15132, 15137, 15153, 15185, 15187, 15203, 15205, 15217, 15223, 15228, 15262, 15263, 15270, 15272, 15278, 15279, 15295, 15296, 15328, 15363, 15368, 15391, 15403, 15418, 15434, 15440, 15457, 15461, 15466, 15470, 15475, 15476, 15495, 15506, 15509, 15510, 15537, 15569, 15573, 15585, 15588, 15596, 15603, 15605, 15614, 15618, 15642, 15650, 15660, 15679, 15680, 15688, 15699, 15712, 15715, 15731, 15736, 15748, 15751, 15796, 15799, 15802, 15823, 15829, 15836, 15845, 15846, 15853, 15867, 15887, 15902, 15905, 15917, 15925, 15948, 15958, 15966, 15982, 15994, 16001, 16007, 16018, 16024, 16025, 16027, 16030, 16033, 16046, 16047, 16057, 16058, 16060, 16089, 16104, 16108, 16109, 16123, 16124, 16140, 16142, 16146, 16166, 16176, 16183, 16196, 16198, 16200, 16209, 16235, 16237, 16269, 16281, 16283, 16289, 16294, 16298, 16309, 16320, 16327, 16328, 16351, 16361, 16390, 16403, 16404, 16408, 16449, 16456, 16461, 16472, 16473, 16479, 16482, 16497, 16527, 16532, 16544, 16547, 16567, 16576, 16627, 16638, 16650, 16654, 16662, 16664, 16675, 16677, 16683, 16690, 16697, 16701, 16707, 16709, 16716, 16729, 16744, 16754, 16760, 16772, 16781, 16791, 16794, 16810, 16812, 16813, 16837, 16857, 16858, 16895, 16902, 16909, 16916, 16925, 16948, 16952, 16958, 16989, 17039, 17046, 17047, 17052, 17070, 17071, 17078, 17080, 17087, 17089, 17110, 17115, 17123, 17137, 17153, 17173, 17188, 17202, 17212, 17216, 17220, 17230, 17241, 17246, 17263, 17265, 17266, 17269, 17272, 17315, 17336, 17339, 17353, 17369, 17372, 17374, 17431, 17432, 17434, 17439, 17448, 17464, 17480, 17482, 17489, 17500, 17507, 17516, 17520, 17548, 17555, 17566, 17579, 17595, 17600, 17635, 17653, 17660, 17663, 17677, 17684, 17691, 17697, 17713, 17729, 17757, 17763, 17786, 17805, 17821, 17836, 17840, 17841, 17851, 17873, 17880, 17884, 17892, 17895, 17909, 17912, 17927, 17945, 17973, 17992, 17995, 18003, 18010, 18017, 18036, 18038, 18040, 18065, 18077, 18084, 18097, 18110, 18117, 18135, 18139, 18147, 18158, 18164, 18192, 18198, 18201, 18206, 18210, 18213, 18215, 18216, 18224, 18230, 18231, 18236, 18255, 18260, 18264, 18290, 18300, 18318, 18323, 18341, 18356, 18361, 18370, 18386, 18394, 18395, 18413, 18423, 18435, 18454, 18460, 18480, 18489, 18499, 18514, 18526, 18535, 18544, 18547, 18566, 18567, 18585, 18613, 18620, 18622, 18631, 18632, 18633, 18634, 18643, 18651, 18661, 18662, 18684, 18693, 18713, 18748, 18763, 18764, 18776, 18780, 18783, 18803, 18804, 18815, 18817, 18841, 18845, 18850, 18851, 18864, 18865, 18891, 18900, 18922, 18927, 18930, 18943, 18946, 18972, 18978, 18995, 18998, 19013, 19028, 19031, 19053, 19069, 19084, 19087, 19097, 19115, 19129, 19132, 19149, 19152, 19154, 19165, 19191, 19210, 19213, 19229, 19232, 19245, 19248, 19271, 19296, 19314, 19321, 19324, 19336, 19343, 19345, 19373, 19391, 19397, 19402, 19415, 19423, 19432, 19443, 19444, 19450, 19463, 19466, 19468, 19502, 19505, 19508, 19519, 19524, 19545, 19556, 19568, 19569, 19587, 19602, 19606, 19632, 19653, 19654, 19673, 19680, 19688, 19693, 19694, 19721, 19737, 19750, 19755, 19764, 19767, 19779, 19784, 19802, 19808, 19815, 19833, 19843, 19847, 19854, 19876, 19886, 19890, 19891, 19903, 19919, 19926, 19939, 19963, 19982, 19999, 20007, 20021, 20022, 20028, 20029, 20042, 20055, 20065, 20071, 20077, 20078, 20100, 20145, 20160, 20165, 20179, 20224, 20239, 20240, 20242, 20247, 20257, 20265, 20268, 20284, 20289, 20299, 20305, 20309, 20313, 20375, 20382, 20395, 20411, 20414, 20424, 20432, 20436, 20440, 20441, 20442, 20446, 20448, 20454, 20473, 20485, 20488, 20493, 20497, 20502, 20514, 20515, 20517, 20520, 20522, 20526, 20542, 20550, 20568, 20581, 20595, 20612, 20613, 20624, 20629, 20655, 20671, 20679, 20695, 20710, 20715, 20721, 20739, 20742, 20748, 20761, 20770, 20779, 20783, 20786, 20831, 20832, 20847, 20850, 20862, 20867, 20874, 20882, 20910, 20917, 20930, 20944, 20959, 20960, 20967, 20970, 20981, 20992, 20993, 21006, 21009, 21012, 21014, 21023, 21024, 21033, 21042, 21044, 21053, 21073, 21121, 21135, 21136, 21147, 21151, 21164, 21174, 21194, 21197, 21207, 21219, 21229, 21251, 21254, 21255, 21274, 21283, 21303, 21323, 21324, 21330, 21366, 21382, 21414, 21425, 21435, 21436, 21438, 21441, 21443, 21444, 21450, 21451, 21453, 21470, 21493, 21502, 21504, 21507, 21511, 21522, 21527, 21528, 21536, 21537, 21544, 21557, 21566, 21577, 21597, 21598, 21615, 21623, 21630, 21633, 21636, 21638, 21652, 21665, 21668, 21670, 21674, 21683, 21691, 21692, 21713, 21722, 21727, 21742, 21750, 21760, 21773, 21784, 21788, 21793, 21796, 21798, 21802, 21804, 21813, 21845, 21852, 21857, 21880, 21881, 21891, 21911, 21917, 21952, 21959, 21982, 21983, 22010, 22019, 22021, 22026, 22027, 22036, 22044, 22047, 22056, 22062, 22067, 22070, 22076, 22083, 22100, 22104, 22112, 22115, 22124, 22132, 22133, 22139, 22146, 22169, 22177, 22184, 22187, 22188, 22198, 22199, 22200, 22203, 22217, 22226, 22229, 22232, 22236, 22249, 22252, 22269, 22278, 22280, 22284, 22335, 22341, 22353, 22356, 22357, 22358, 22368, 22369, 22376, 22386, 22391, 22395, 22397, 22407, 22411, 22414, 22442, 22446, 22457, 22486, 22491, 22500, 22516, 22524, 22548, 22554, 22558, 22573, 22579, 22594, 22606, 22611, 22612, 22620, 22624, 22635, 22641, 22661, 22673, 22688, 22696, 22701, 22712, 22713, 22726, 22731, 22742, 22751, 22769, 22778, 22792, 22793, 22800, 22807, 22811, 22852, 22856, 22861, 22864, 22878, 22881, 22884, 22900, 22901, 22922, 22930, 22945, 22958, 22990, 22994, 22998, 23001, 23018, 23020, 23025, 23026, 23028, 23038, 23039, 23040, 23041, 23058, 23069, 23079, 23080, 23082, 23087, 23089, 23099, 23106, 23114, 23117, 23138, 23162, 23171, 23177, 23185, 23194, 23216, 23222, 23229, 23231, 23268, 23310, 23313, 23319, 23323, 23325, 23330, 23335, 23355, 23364, 23370, 23371, 23397, 23403, 23410, 23441, 23457, 23460, 23468, 23472, 23481, 23491, 23494, 23503, 23520, 23525, 23545, 23561, 23564, 23578, 23584, 23610, 23625, 23642, 23652, 23675, 23677, 23683, 23691, 23701, 23705, 23716, 23718, 23721, 23757, 23764, 23770, 23776, 23777, 23794, 23797, 23800, 23814, 23826, 23846, 23847, 23859, 23887, 23894, 23895, 23916, 23917, 23934, 23942, 23952, 23957, 23961, 23975, 23982, 23994, 23995, 24010, 24012, 24014, 24015, 24035, 24036, 24050, 24055, 24060, 24067, 24089, 24096, 24098, 24116, 24118, 24124, 24129, 24152, 24177, 24182, 24198, 24203, 24206, 24213, 24215, 24226, 24229, 24238, 24249, 24269, 24290, 24303, 24321, 24331, 24347, 24360, 24381, 24390, 24406, 24418, 24425, 24427, 24430, 24433, 24449, 24450, 24462, 24467, 24484, 24485, 24491, 24513, 24517, 24520, 24546, 24551, 24552, 24557, 24570, 24582, 24591, 24602, 24612, 24618, 24623, 24632, 24633, 24649, 24665, 24674, 24690, 24695, 24722, 24724, 24728, 24732, 24746, 24751, 24752, 24786, 24790, 24794, 24796, 24803, 24805, 24833, 24836, 24841, 24844, 24849, 24853, 24862, 24865, 24876, 24881, 24897, 24939, 24961, 24968, 24971, 24972, 24982, 24997, 25004, 25017, 25020, 25029, 25038, 25041, 25069, 25088, 25089, 25105, 25122, 25136, 25138, 25139, 25147, 25148, 25150, 25156, 25157, 25185, 25217, 25220, 25221, 25238, 25246, 25249, 25261, 25265, 25272, 25281, 25289, 25294, 25309, 25318, 25329, 25332, 25349, 25369, 25381, 25403, 25406, 25412, 25437, 25442, 25459, 25476, 25487, 25492, 25507, 25510, 25516, 25517, 25519, 25526, 25530, 25533, 25548, 25551, 25564, 25570, 25571, 25574, 25591, 25609, 25617, 25618, 25627, 25632, 25658, 25663, 25672, 25677, 25683, 25691, 25700, 25717, 25718, 25732, 25735, 25752, 25780, 25787, 25804, 25807, 25827, 25838, 25854, 25902, 25907, 25912, 25916, 25920, 25923, 25927, 25939, 25974, 25991, 25994, 26006, 26011, 26012, 26031, 26046, 26075, 26083, 26093, 26120, 26121, 26146, 26157, 26161, 26164, 26170, 26201, 26213, 26221, 26224, 26237, 26245, 26265, 26280, 26312, 26325, 26326, 26329, 26330, 26333, 26340, 26341, 26348, 26355, 26357, 26431, 26434, 26447, 26454, 26461, 26468, 26477, 26504, 26509, 26522, 26533, 26540, 26541, 26562, 26577, 26585, 26595, 26613, 26624, 26626, 26630, 26632, 26635, 26638, 26646, 26649, 26658, 26669, 26688, 26689, 26690, 26718, 26733, 26740, 26741, 26751, 26770, 26779, 26782, 26788, 26794, 26800, 26817, 26821, 26850, 26863, 26875, 26883, 26888, 26899, 26907, 26922, 26927, 26932, 26941, 26956, 26974, 26994, 27010, 27026, 27033, 27052, 27073, 27093, 27108, 27113, 27120, 27122, 27131, 27138, 27150, 27162, 27165, 27171, 27178, 27181, 27186, 27188, 27189, 27192, 27215, 27223, 27229, 27232, 27233, 27239, 27252, 27258, 27264, 27311, 27331, 27347, 27356, 27367, 27374, 27376, 27384, 27385, 27393, 27413, 27426, 27432, 27434, 27444, 27451, 27456, 27458, 27464, 27470, 27472, 27475, 27490, 27503, 27520, 27525, 27535, 27537, 27548, 27551, 27571, 27587, 27598, 27600, 27614, 27618, 27622, 27641, 27643, 27652, 27660, 27664, 27672, 27673, 27680, 27696, 27700, 27719, 27721, 27736, 27739, 27752, 27753, 27754, 27761, 27768, 27770, 27781, 27787, 27791, 27797, 27810, 27834, 27844, 27852, 27860, 27864, 27869, 27874, 27878, 27880, 27883, 27888, 27897, 27898, 27915, 27928, 27935, 27957, 27989, 28013, 28021, 28050, 28052, 28059, 28067, 28068, 28074, 28077, 28078, 28091, 28095, 28112, 28126, 28135, 28140, 28154, 28155, 28156, 28169, 28185, 28189, 28200, 28210, 28212, 28214, 28218, 28228, 28234, 28266, 28268, 28269, 28275, 28278, 28282, 28284, 28285, 28289, 28293, 28294, 28324, 28335, 28336, 28347, 28366, 28369, 28370, 28388, 28389, 28404, 28407, 28436, 28453, 28454, 28471, 28494, 28502, 28525, 28533, 28537, 28544, 28555, 28559, 28560, 28566, 28567, 28577, 28603, 28611, 28630, 28631, 28640, 28651, 28672, 28684, 28685, 28686, 28701, 28731, 28744, 28780, 28786, 28787, 28795, 28801, 28811, 28832, 28839, 28842, 28844, 28859, 28868, 28872, 28879, 28882, 28920, 28929, 28932, 28937, 28944, 28950, 28954, 28958, 28977, 28985, 28998, 29000, 29004, 29005, 29017, 29019, 29025, 29043, 29050, 29059, 29060, 29064, 29071, 29081, 29085, 29106, 29152, 29167, 29171, 29175, 29176, 29188, 29200, 29219, 29220, 29240, 29244, 29247, 29267, 29287, 29290, 29312, 29314, 29334, 29351, 29355, 29401, 29408, 29413, 29425, 29449, 29453, 29466, 29481, 29496, 29500, 29501, 29510, 29519, 29546, 29573, 29594, 29611, 29612, 29619, 29624, 29626, 29635, 29640, 29646, 29654, 29657, 29662, 29667, 29674, 29681, 29698, 29699, 29716, 29717, 29720, 29726, 29734, 29735, 29741, 29770, 29784, 29789, 29819, 29837, 29839, 29851, 29853, 29876, 29893, 29904, 29906, 29911, 29930, 29932, 29967, 29990, 30014, 30027, 30032, 30054, 30055, 30056, 30064, 30075, 30076, 30078, 30091, 30094, 30102, 30107, 30120, 30122, 30133, 30191, 30211, 30227, 30228, 30291, 30297, 30309, 30317, 30329, 30336, 30344, 30346, 30349, 30353, 30355, 30356, 30365, 30369, 30376, 30420, 30429, 30443, 30459, 30477, 30485, 30487, 30492, 30503, 30522, 30530, 30533, 30534, 30561, 30569, 30570, 30580, 30589, 30594, 30596, 30600, 30609, 30634, 30640, 30655, 30663, 30669, 30690, 30705, 30710, 30719, 30724, 30726, 30730, 30746, 30752, 30762, 30769, 30772, 30791, 30794, 30802, 30810, 30811, 30816, 30826, 30831, 30832, 30840, 30860, 30865, 30872, 30880, 30881, 30884, 30889, 30905, 30925, 30931, 30951, 30970, 30972, 30975, 30976, 30993, 30997, 31002, 31016, 31024, 31047, 31056, 31063, 31068, 31070, 31092, 31096, 31133, 31146, 31148, 31150, 31177, 31185, 31188, 31197, 31216, 31221, 31233, 31240, 31241, 31247, 31258, 31267, 31276, 31281, 31304, 31327, 31338, 31354, 31360, 31372, 31373, 31381, 31388, 31401, 31422, 31429, 31449, 31454, 31462, 31467, 31483, 31492, 31493, 31503, 31506, 31508, 31512, 31513, 31546, 31555, 31603, 31608, 31609, 31616, 31617, 31634, 31635, 31638, 31658, 31662, 31665, 31666, 31681, 31688, 31696, 31709, 31740, 31757, 31773, 31789, 31794, 31802, 31807, 31813, 31823, 31827, 31837, 31852, 31873, 31874, 31884, 31890, 31905, 31928, 31933, 31935, 31947, 31956, 31958, 31970, 31973, 31978, 32008, 32010, 32022, 32024, 32035, 32057, 32065, 32075, 32077, 32081, 32135, 32142, 32146, 32148, 32155, 32169, 32170, 32202, 32212, 32216, 32243, 32250, 32263, 32264, 32269, 32280, 32288, 32292, 32297, 32317, 32318, 32337, 32361, 32382, 32405, 32408, 32418, 32424, 32430, 32435, 32437, 32438, 32450, 32475, 32481, 32485, 32508, 32510, 32521, 32523, 32525, 32545, 32561, 32579, 32590, 32595, 32601, 32606, 32611, 32627, 32630, 32634, 32637, 32640, 32650, 32654, 32678, 32695, 32709, 32726, 32744, 32751, 32763, 32768, 32779, 32780, 32792, 32797, 32809, 32818, 32825, 32836, 32845, 32854, 32856, 32872, 32901, 32918, 32928, 32934, 32947, 32949, 32973, 32981, 32985, 32989, 32991, 32998, 33007, 33008, 33016, 33027, 33047, 33060, 33065, 33068, 33075, 33085, 33088, 33090, 33094, 33096, 33120, 33133, 33158, 33160, 33168, 33180, 33184, 33185, 33197, 33203, 33210, 33213, 33233, 33250, 33261, 33274, 33281, 33290, 33296, 33297, 33333, 33334, 33342, 33361, 33364, 33373, 33413, 33414, 33435, 33438, 33449, 33463, 33469, 33488, 33489, 33505, 33526, 33540, 33541, 33547, 33591, 33593, 33620, 33644, 33659, 33662, 33666, 33672, 33680, 33685, 33686, 33688, 33691, 33695, 33697, 33698, 33707, 33716, 33727, 33743, 33775, 33785, 33804, 33807, 33819, 33821, 33832, 33857, 33863, 33878, 33881, 33897, 33906, 33930, 33938, 33941, 33951, 33967, 33982, 33987, 34056, 34062, 34078, 34087, 34095, 34113, 34116, 34129, 34131, 34134, 34136, 34155, 34157, 34167, 34181, 34182, 34201, 34202, 34214, 34217, 34218, 34226, 34228, 34250, 34252, 34253, 34256, 34287, 34308, 34310, 34323, 34326, 34371, 34385, 34405, 34408, 34425, 34432, 34436, 34441, 34442, 34443, 34444, 34450, 34462, 34475, 34479, 34484, 34494, 34495, 34521, 34532, 34558, 34559, 34573, 34604, 34606, 34614, 34620, 34627, 34636, 34643, 34650, 34657, 34664, 34675, 34680, 34717, 34718, 34724, 34726, 34745, 34746, 34747, 34768, 34789, 34795, 34799, 34831, 34833, 34848, 34850, 34851, 34856, 34864, 34871, 34891, 34902, 34907, 34917, 34928, 34936, 34944, 34961, 34964, 34976, 35011, 35014, 35020, 35023, 35031, 35035, 35051, 35071, 35076, 35090, 35091, 35092, 35104, 35106, 35110, 35111, 35112, 35124, 35128, 35134, 35137, 35138, 35153, 35161, 35167, 35198, 35202, 35215, 35216, 35220, 35235, 35240, 35250, 35269, 35279, 35288, 35290, 35298, 35301, 35315, 35331, 35340, 35344, 35347, 35356, 35373, 35378, 35393, 35403, 35405, 35410, 35437, 35443, 35445, 35453, 35454, 35456, 35457, 35478, 35483, 35489, 35492, 35494, 35509, 35510, 35529, 35571, 35572, 35597, 35599, 35606, 35630, 35638, 35644, 35652, 35653, 35670, 35678, 35679, 35685, 35689, 35690, 35691, 35701, 35721, 35758, 35770, 35779, 35785, 35802, 35827, 35832, 35835, 35850, 35872, 35873, 35882, 35885, 35887, 35901, 35902, 35909, 35927, 35930, 35947, 35970, 35974, 35992, 36001, 36006, 36009, 36016, 36039, 36051, 36056, 36064, 36072, 36077, 36081, 36100, 36112, 36120, 36123, 36127, 36133, 36142, 36147, 36166, 36167, 36170, 36187, 36209, 36229, 36266, 36292, 36311, 36321, 36326, 36335, 36355, 36374, 36375, 36396, 36397, 36401, 36423, 36450, 36460, 36462, 36463, 36475, 36485, 36505, 36522, 36543, 36553, 36568, 36573, 36593, 36600, 36614, 36624, 36631, 36662, 36680, 36685, 36693, 36694, 36704, 36715, 36717, 36718, 36721, 36728, 36753, 36768, 36775, 36781, 36805, 36813, 36833, 36844, 36846, 36853, 36858, 36868, 36875, 36879, 36884, 36901, 36904, 36914, 36936, 36942, 36949, 36950, 36958, 36961, 36965, 36978, 36979, 36982, 36998, 37007, 37015, 37020, 37040, 37053, 37063, 37083, 37084, 37103, 37120, 37143, 37145, 37151, 37157, 37172, 37187, 37199, 37210, 37214, 37234, 37241, 37243, 37258, 37274, 37291, 37296, 37307, 37320, 37322, 37347, 37360, 37367, 37386, 37403, 37412, 37416, 37418, 37426, 37427, 37435, 37437, 37440, 37446, 37462, 37469, 37481, 37484, 37486, 37489, 37491, 37501, 37504, 37514, 37515, 37526, 37532, 37533, 37545, 37560, 37568, 37570, 37580, 37588, 37601, 37610, 37613, 37615, 37630, 37631, 37632, 37638, 37646, 37655, 37660, 37668, 37669, 37671, 37696, 37727, 37734, 37743, 37760, 37763, 37766, 37777, 37798, 37806, 37812, 37825, 37832, 37838, 37861, 37863, 37880, 37904, 37918, 37925, 37941, 37942, 37957, 37964, 37967, 37969, 37974, 37985, 37989, 37995, 38009, 38010, 38024, 38033, 38036, 38040, 38061, 38068, 38070, 38078, 38080, 38094, 38107, 38108, 38120, 38124, 38127, 38140, 38143, 38148, 38170, 38171, 38195, 38197, 38208, 38216, 38221, 38256, 38261, 38268, 38275, 38288, 38307, 38319, 38326, 38330, 38339, 38354, 38356, 38359, 38366, 38381, 38396, 38401, 38403, 38406, 38409, 38417, 38427, 38430, 38435, 38438, 38469, 38509, 38527, 38530, 38542, 38547, 38560, 38563, 38609, 38617, 38618, 38635, 38636, 38637, 38649, 38652, 38665, 38667, 38679, 38692, 38715, 38720, 38733, 38753, 38770, 38784, 38785, 38790, 38793, 38800, 38815, 38825, 38826, 38839, 38846, 38862, 38879, 38884, 38886, 38901, 38924, 38935, 38937, 38952, 38953, 38962, 39002, 39006, 39008, 39020, 39022, 39031, 39032, 39042, 39059, 39074, 39079, 39090, 39097, 39118, 39145, 39146, 39147, 39153, 39161, 39162, 39168, 39170, 39171, 39198, 39203, 39210, 39216, 39228, 39249, 39256, 39282, 39283, 39284, 39296, 39299, 39323, 39330, 39338, 39342, 39343, 39392, 39398, 39408, 39411, 39420, 39421, 39429, 39434, 39453, 39467, 39470, 39476, 39487, 39488, 39507, 39510, 39518, 39545, 39561, 39572, 39582, 39587, 39592, 39597, 39627, 39644, 39655, 39663, 39669, 39673, 39682, 39688, 39691, 39698, 39708, 39719, 39726, 39734, 39739, 39759, 39772, 39790, 39794, 39810, 39840, 39853, 39860, 39862, 39879, 39892, 39899, 39914, 39918, 39919, 39921, 39929, 39930, 39939, 39959, 39970, 39979, 40027, 40037, 40044, 40049, 40053, 40054, 40076, 40084, 40090, 40095, 40096, 40107, 40119, 40120, 40129, 40151, 40152, 40155, 40160, 40183, 40198, 40203, 40206, 40212, 40221, 40272, 40279, 40289, 40318, 40321, 40333, 40345, 40360, 40365, 40366, 40369, 40376, 40388, 40405, 40409, 40413, 40416, 40420, 40425, 40445, 40461, 40497, 40498, 40513, 40530, 40536, 40539, 40542, 40556, 40562, 40566, 40569, 40580, 40581, 40589, 40592, 40597, 40598, 40607, 40614, 40617, 40622, 40632, 40637, 40653, 40686, 40699, 40705, 40718, 40740, 40747, 40749, 40782, 40788, 40812, 40815, 40816, 40832, 40841, 40847, 40851, 40853, 40863, 40870, 40881, 40886, 40899, 40900, 40929, 40936, 40948, 40949, 40951, 40956, 40967, 40968, 40975, 40985, 40988, 40995, 41004, 41037, 41074, 41080, 41082, 41087, 41105, 41112, 41121, 41141, 41169, 41179, 41181, 41182, 41189, 41197, 41204, 41207, 41216, 41217, 41234, 41255, 41256, 41260, 41264, 41276, 41284, 41290, 41292, 41294, 41301, 41330, 41335, 41340, 41348, 41366, 41382, 41397, 41398, 41399, 41417, 41420, 41421, 41427, 41429, 41438, 41451, 41458, 41460, 41466, 41469, 41478, 41484, 41489, 41512, 41516, 41540, 41541, 41579, 41581, 41593, 41595, 41633, 41651, 41662, 41668, 41672, 41687, 41702, 41708, 41710, 41721, 41730, 41741, 41745, 41766, 41794, 41802, 41821, 41830, 41832, 41835, 41841, 41860, 41861, 41878, 41881, 41900, 41911, 41916, 41936, 41937, 41946, 41955, 41965, 41966, 41984, 41985, 41997, 42001, 42012, 42014, 42019, 42037, 42050, 42065, 42068, 42092, 42095, 42115, 42126, 42135, 42138, 42142, 42158, 42159, 42168, 42188, 42206, 42219, 42223, 42240, 42271, 42273, 42278, 42280, 42301, 42308, 42309, 42310, 42319, 42323, 42327, 42328, 42336, 42341, 42353, 42366, 42373, 42394, 42413, 42429, 42439, 42443, 42454, 42472, 42474, 42491, 42496, 42503, 42513, 42522, 42532, 42535, 42538, 42539, 42562, 42563, 42568, 42583, 42596, 42598, 42603, 42622, 42633, 42654, 42671, 42675, 42683, 42686, 42692, 42693, 42708, 42717, 42726, 42734, 42741, 42746, 42754, 42789, 42792, 42799, 42805, 42810, 42814, 42821, 42830, 42839, 42842, 42861, 42866, 42883, 42885, 42887, 42891, 42916, 42918, 42926, 42929, 42934, 42936, 42949, 42950, 42958, 42969, 42982, 42991, 43002, 43032, 43040, 43047, 43077, 43079, 43101, 43105, 43113, 43116, 43117, 43122, 43124, 43133, 43153, 43172, 43176, 43184, 43191, 43211, 43220, 43240, 43241, 43254, 43257, 43292, 43293, 43294, 43312, 43314, 43317, 43326, 43331, 43338, 43345, 43351, 43360, 43371, 43376, 43391, 43394, 43407, 43430, 43434, 43436, 43439, 43441, 43449, 43450, 43477, 43479, 43486, 43495, 43513, 43514, 43546, 43547, 43566, 43575, 43576, 43590, 43597, 43617, 43630, 43632, 43635, 43642, 43649, 43674, 43681, 43683, 43689, 43743, 43760, 43768, 43769, 43789, 43794, 43806, 43815, 43818, 43826, 43831, 43842, 43850, 43851, 43852, 43854, 43871, 43874, 43877, 43878, 43885, 43895, 43899, 43935, 43964, 43974, 43975, 43988, 43994, 43996, 44019, 44021, 44033, 44049, 44054, 44090, 44092, 44095, 44098, 44133, 44140, 44143, 44149, 44166, 44186, 44195, 44209, 44226, 44229, 44247, 44248, 44260, 44265, 44273, 44274, 44298, 44302, 44304, 44316, 44334, 44347, 44362, 44364, 44371, 44374, 44377, 44393, 44395, 44401, 44412, 44414, 44415, 44424, 44425, 44455, 44475, 44490, 44492, 44495, 44502, 44520, 44525, 44541, 44549, 44565, 44585, 44591, 44611, 44612, 44639, 44653, 44657, 44672, 44707, 44710, 44718, 44727, 44740, 44747, 44758, 44767, 44784, 44794, 44797, 44823, 44828, 44841, 44847, 44881, 44898, 44901, 44902, 44934, 44950, 44978, 44993, 45022, 45028, 45041, 45047, 45055, 45073, 45077, 45085, 45094, 45096, 45099, 45125, 45130, 45133, 45136, 45149, 45158, 45169, 45203, 45206, 45216, 45251, 45259, 45268, 45281, 45283, 45287, 45306, 45319, 45332, 45341, 45342, 45346, 45347, 45348, 45350, 45358, 45362, 45367, 45375, 45378, 45387, 45405, 45406, 45412, 45414, 45420, 45430, 45439, 45453, 45459, 45462, 45464, 45484, 45486, 45488, 45498, 45500, 45501, 45505, 45531, 45543, 45561, 45568, 45584, 45620, 45631, 45638, 45648, 45661, 45662, 45672, 45698, 45705, 45714, 45725, 45745, 45763, 45779, 45792, 45799, 45818, 45819, 45825, 45832, 45838, 45845, 45852, 45867, 45868, 45880, 45885, 45889, 45904, 45906, 45920, 45929, 45932, 45943, 45957, 45958, 45964, 45972, 45977, 45993, 45998, 46001, 46002, 46011, 46028, 46036, 46044, 46047, 46050, 46056, 46082, 46083, 46092, 46094, 46105, 46115, 46116, 46122, 46129, 46143, 46162, 46163, 46197, 46212, 46214, 46217, 46219, 46224, 46239, 46250, 46259, 46262, 46266, 46277, 46286, 46288, 46293, 46317, 46319, 46343, 46345, 46364, 46377, 46386, 46394, 46400, 46408, 46414, 46447, 46463, 46464, 46483, 46486, 46510, 46517, 46540, 46543, 46546, 46551, 46553, 46556, 46574, 46585, 46586, 46591, 46593, 46606, 46619, 46620, 46656, 46663, 46678, 46687, 46690, 46694, 46707, 46708, 46710, 46727, 46760, 46783, 46830, 46833, 46835, 46841, 46849, 46863, 46867, 46887, 46910, 46912, 46921, 46935, 46940, 46951, 46956, 46966, 46974, 46977, 46978, 46997, 47012, 47023, 47024, 47036, 47043, 47065, 47083, 47088, 47101, 47102, 47113, 47114, 47131, 47132, 47142, 47143, 47155, 47164, 47171, 47189, 47199, 47223, 47226, 47228, 47230, 47231, 47235, 47238, 47246, 47249, 47254, 47255, 47258, 47270, 47273, 47290, 47302, 47306, 47321, 47342, 47354, 47369, 47375, 47378, 47393, 47408, 47409, 47443, 47448, 47460, 47467, 47499, 47508, 47515, 47522, 47529, 47530, 47531, 47534, 47557, 47565, 47573, 47575, 47578, 47585, 47590, 47598, 47603, 47610, 47612, 47614, 47623, 47649, 47650, 47652, 47658, 47667, 47685, 47686, 47688, 47706, 47710, 47711, 47731, 47743, 47754, 47759, 47767, 47780, 47782, 47787, 47801, 47804, 47819, 47839, 47842, 47862, 47883, 47890, 47900, 47907, 47912, 47922, 47924, 47945, 47956, 47965, 47966, 47971, 47973, 47984, 47990, 47999, 48008, 48009, 48017, 48019, 48029, 48034, 48043, 48063, 48070, 48107, 48109, 48118, 48129, 48147, 48158, 48178, 48181, 48191, 48211, 48212, 48220, 48231, 48238, 48246, 48248, 48270, 48277, 48279, 48292, 48293, 48294, 48320, 48323, 48332, 48334, 48349, 48354, 48356, 48378, 48383, 48391, 48401, 48417, 48420, 48423, 48443, 48446, 48460, 48462, 48463, 48474, 48476, 48483, 48497, 48502, 48506, 48516, 48525, 48527, 48531, 48536, 48545, 48549, 48550, 48598, 48621, 48624, 48640, 48643, 48665, 48674, 48681, 48686, 48696, 48698, 48699, 48738, 48748, 48757, 48767, 48784, 48799, 48811, 48820, 48822, 48837, 48841, 48877, 48881, 48884, 48887, 48898, 48899, 48912, 48915, 48926, 48933, 48934, 48946, 48951, 48954, 48975, 48982, 48986, 48991, 49009, 49021, 49028, 49029, 49034, 49041, 49067, 49070, 49074, 49089, 49090, 49098, 49101, 49106, 49115, 49148, 49158, 49160, 49164, 49168, 49179, 49181, 49189, 49191, 49192, 49231, 49247, 49248, 49264, 49267, 49282, 49285, 49314, 49340, 49349, 49363, 49369, 49381, 49408, 49409, 49411, 49416, 49421, 49425, 49430, 49434, 49452, 49454, 49474, 49475, 49486, 49498, 49515, 49537, 49555, 49567, 49573, 49580, 49582, 49598, 49605, 49614, 49625, 49642, 49643, 49674, 49702, 49727, 49735, 49757, 49762, 49773, 49775, 49776, 49778, 49781, 49782, 49790, 49792, 49795, 49805, 49819, 49834, 49839, 49856, 49857, 49873, 49875, 49907, 49908, 49911, 49914, 49916, 49917, 49929, 49936, 49951, 49962, 49975, 49976, 49993, 50011, 50028, 50052, 50065, 50085, 50096, 50105, 50153, 50167, 50196, 50211, 50218, 50221, 50229, 50230, 50247, 50251, 50259, 50271, 50287, 50290, 50295, 50315, 50334, 50335, 50348, 50368, 50381, 50441, 50446, 50449, 50452, 50454, 50457, 50474, 50475, 50478, 50479, 50487, 50495, 50496, 50504, 50508, 50521, 50527, 50538, 50543, 50546, 50563, 50568, 50575, 50576, 50581, 50640, 50642, 50669, 50674, 50676, 50689, 50691, 50695, 50700, 50705, 50716, 50720, 50722, 50733, 50736, 50744, 50748, 50753, 50756, 50773, 50802, 50812, 50814, 50826, 50840, 50875, 50897, 50898, 50899, 50901, 50913, 50933, 50953, 50962, 50966, 50971, 50977, 50986, 50987, 50991, 51001, 51016, 51037, 51064, 51073, 51090, 51100, 51117, 51118, 51119, 51131, 51151, 51171, 51212, 51214, 51216, 51238, 51241, 51256, 51262, 51273, 51275, 51317, 51320, 51323, 51340, 51356, 51357, 51359, 51379, 51398, 51399, 51418, 51419, 51435, 51443, 51448, 51458, 51506, 51517, 51530, 51541, 51542, 51547, 51550, 51567, 51569, 51575, 51580, 51589, 51599, 51608, 51614, 51630, 51633, 51642, 51648, 51653, 51658, 51660, 51673, 51682, 51698, 51699, 51702, 51719, 51721, 51726, 51735, 51738, 51743, 51748, 51751, 51760, 51782, 51786, 51787, 51808, 51810, 51835, 51849, 51869, 51870, 51884, 51898, 51922, 51931, 51937, 51957, 51959, 51961, 51976, 51983, 51986, 52001, 52006, 52011, 52016, 52023, 52025, 52068, 52083, 52099, 52109, 52118, 52132, 52142, 52144, 52152, 52153, 52169, 52186, 52188, 52189, 52207, 52208, 52224, 52225, 52242, 52251, 52271, 52316, 52319, 52331, 52335, 52345, 52358, 52366, 52370, 52373, 52400, 52403, 52408, 52410, 52413, 52422, 52433, 52440, 52453, 52456, 52488, 52495, 52501, 52512, 52547, 52548, 52549, 52550, 52574, 52582, 52602, 52611, 52630, 52634, 52637, 52643, 52647, 52649, 52656, 52659, 52660, 52677, 52684, 52694, 52695, 52723, 52726, 52755, 52757, 52762, 52774, 52782, 52784, 52796, 52801, 52802, 52812, 52829, 52834, 52835, 52839, 52840, 52841, 52851, 52869, 52874, 52889, 52894, 52898, 52938, 52942, 52953, 52956, 52959, 52971, 52975, 52982, 52987, 53008, 53013, 53017, 53019, 53026, 53029, 53033, 53034, 53056, 53072, 53076, 53088, 53089, 53105, 53121, 53132, 53138, 53139, 53207, 53218, 53224, 53237, 53239, 53245, 53259, 53264, 53266, 53269, 53284, 53303, 53322, 53323, 53340, 53343, 53366, 53367, 53373, 53377, 53388, 53390, 53391, 53430, 53434, 53455, 53473, 53491, 53494, 53500, 53504, 53512, 53522, 53541, 53571, 53585, 53608, 53628, 53637, 53639, 53644, 53650, 53656, 53658, 53668, 53669, 53689, 53692, 53708, 53709, 53720, 53727, 53733, 53742, 53744, 53748, 53762, 53772, 53773, 53790, 53799, 53819, 53825, 53835, 53837, 53862, 53876, 53878, 53879, 53884, 53890, 53901, 53910, 53921, 53926, 53941, 53963, 53967, 53972, 53984, 53989, 54025, 54033, 54043, 54052, 54058, 54075, 54078, 54090, 54095, 54105, 54110, 54125, 54128, 54134, 54145, 54160, 54161, 54168, 54169, 54220, 54238, 54240, 54247, 54262, 54271, 54277, 54286, 54292, 54297, 54299, 54305, 54306, 54314, 54315, 54318, 54325, 54326, 54330, 54338, 54350, 54355, 54375, 54395, 54408, 54424, 54432, 54440, 54448, 54454, 54456, 54457, 54480, 54484, 54511, 54513, 54519, 54527, 54541, 54545, 54551, 54553, 54556, 54573, 54574, 54613, 54633, 54653, 54674, 54676, 54680, 54682, 54709, 54714, 54737, 54754, 54756, 54758, 54762, 54765, 54768, 54790, 54794, 54795, 54796, 54805, 54806, 54815, 54831, 54834, 54837, 54838, 54840, 54848, 54854, 54857, 54866, 54877, 54893, 54894, 54908, 54924, 54951, 54956, 54973, 54978, 54981, 54987, 55001, 55011, 55032, 55033, 55040, 55044, 55049, 55069, 55070, 55089, 55100, 55129, 55137, 55149, 55157, 55158, 55170, 55172, 55176, 55183, 55186, 55188, 55193, 55199, 55202, 55203, 55209, 55220, 55228, 55281, 55300, 55304, 55308, 55316, 55319, 55326, 55352, 55360, 55373, 55381, 55391, 55399, 55404, 55429, 55433, 55437, 55443, 55504, 55507, 55508, 55525, 55526, 55528, 55540, 55542, 55545, 55559, 55589, 55625, 55629, 55637, 55653, 55655, 55657, 55662, 55669, 55678, 55692, 55704, 55723, 55749, 55769, 55782, 55789, 55808, 55816, 55833, 55836, 55857, 55862, 55899, 55906, 55912, 55919, 55933, 55935, 55950, 55952, 55969, 55972, 55982, 55985, 55987, 55996, 55997, 56009, 56027, 56040, 56049, 56055, 56065, 56069, 56079, 56083, 56088, 56100, 56104, 56120, 56125, 56154, 56168, 56175, 56188, 56213, 56215, 56222, 56223, 56243, 56263, 56264, 56282, 56289, 56298, 56301, 56312, 56325, 56335, 56340, 56355, 56361, 56372, 56394, 56403, 56427, 56465, 56467, 56473, 56493, 56498, 56508, 56513, 56514, 56540, 56553, 56558, 56569, 56579, 56583, 56590, 56598, 56612, 56614, 56631, 56643, 56655, 56664, 56665, 56682, 56687, 56691, 56719, 56739, 56752, 56759, 56762, 56785, 56795, 56819, 56821, 56824, 56847, 56848, 56864, 56876, 56901, 56917, 56919, 56922, 56926, 56957, 56961, 56973, 56993, 56998, 57007, 57086, 57096, 57104, 57105, 57112, 57113, 57130, 57139, 57142, 57151, 57153, 57163, 57183, 57185, 57191, 57205, 57225, 57245, 57262, 57270, 57273, 57284, 57289, 57307, 57319, 57331, 57338, 57342, 57358, 57363, 57366, 57377, 57387, 57388, 57394, 57398, 57416, 57427, 57439, 57442, 57446, 57448, 57455, 57475, 57478, 57496, 57500, 57503, 57506, 57509, 57520, 57573, 57574, 57583, 57588, 57592, 57597, 57604, 57605, 57606, 57615, 57619, 57620, 57624, 57626, 57628, 57632, 57633, 57649, 57654, 57658, 57669, 57694, 57716, 57726, 57752, 57755, 57790, 57799, 57808, 57815, 57831, 57838, 57859, 57871, 57876, 57878, 57889, 57890, 57894, 57899, 57904, 57908, 57910, 57911, 57928, 57930, 57933, 57936, 57939, 57953, 57956, 57964, 57966, 57976, 57981, 57992, 57999, 58000, 58019, 58026, 58030, 58032, 58044, 58060, 58063, 58068, 58071, 58087, 58098, 58103, 58104, 58114, 58126, 58135, 58137, 58162, 58172, 58182, 58192, 58215, 58235, 58241, 58244, 58254, 58267, 58277, 58287, 58297, 58314, 58315, 58317, 58323, 58373, 58378, 58388, 58398, 58409, 58418, 58429, 58441, 58452, 58468, 58472, 58476, 58487, 58494, 58502, 58512, 58533, 58538, 58563, 58568, 58572, 58581, 58585, 58590, 58601, 58611, 58619, 58628, 58638, 58644, 58651, 58670, 58704, 58705, 58710, 58720, 58728, 58771, 58775, 58783, 58794, 58801, 58811, 58821, 58831, 58841, 58851, 58857, 58868, 58884, 58896, 58910, 58923, 58928, 58929, 58936, 58945, 58954, 58962, 58964, 59004, 59007, 59009, 59011, 59030, 59040, 59045, 59053, 59061, 59076, 59093, 59094, 59110, 59113, 59122, 59130, 59152, 59157, 59167, 59177, 59186, 59188, 59218, 59222, 59223, 59231, 59245, 59252, 59253, 59281, 59290, 59298, 59316, 59317, 59326, 59327, 59333, 59355, 59365, 59374, 59390, 59396, 59410, 59415, 59422, 59425, 59444, 59456, 59475, 59476, 59479, 59489, 59499, 59537, 59539, 59555, 59556, 59572, 59575, 59577, 59579, 59587, 59597, 59607, 59621, 59628, 59641, 59655, 59667, 59672, 59675, 59677, 59684, 59698, 59706, 59714, 59720, 59721, 59732, 59734, 59737, 59742, 59757, 59788, 59797, 59807, 59816, 59819, 59824, 59826, 59831, 59833, 59855, 59875, 59896, 59897, 59903, 59913, 59920, 59970, 59971, 59974, 59983, 59985, 59991]\n"
          ]
        }
      ],
      "source": [
        "N=2\n",
        "N_index=[]\n",
        "\n",
        "for k in range(len(x_train)):\n",
        "    if t_train[k]==N:\n",
        "        N_index.append(k)\n",
        "\n",
        "print(N_index)"
      ]
    },
    {
      "cell_type": "code",
      "execution_count": 27,
      "metadata": {
        "id": "Ob1_yzwv61th"
      },
      "outputs": [
        {
          "data": {
            "image/png": "[encoded data removed]",
            "text/plain": [
              "<Figure size 1000x1000 with 25 Axes>"
            ]
          },
          "metadata": {},
          "output_type": "display_data"
        }
      ],
      "source": [
        "plt.figure(figsize=(10,10))\n",
        "\n",
        "for i in range(25):\n",
        "    plt.subplot(5,5,i+1)\n",
        "    plt.xticks([])\n",
        "    plt.yticks([])\n",
        "    plt.imshow(x_train[N_index[i]][0], cmap=plt.cm.binary) # 인덱스의 0번 째 꺼, 픽셀들을 들고 와라?\n",
        "\n",
        "plt.show()"
      ]
    },
    {
      "cell_type": "markdown",
      "metadata": {
        "id": "e3C6mBsv61th"
      },
      "source": [
        "### MNIST_imshow.py를 수정하여 훈련용 MNIST데이터중 랜덤하게 25개를 뽑아서 5 X5 모아찍기로 출력하시오."
      ]
    },
    {
      "cell_type": "markdown",
      "metadata": {
        "id": "msH4aVhg61th"
      },
      "source": [
        "`np.random.choice`를 이용해 인덱스 $0,1,2,\\cdots, 59999$w중에서 25개의 숫자를 랜덤하게 뽑습니다.  \n",
        "랜덤하게 뽑으므로 실행할때마다 뽑히는 인덱스는 달라집니다."
      ]
    },
    {
      "cell_type": "code",
      "execution_count": 28,
      "metadata": {
        "id": "nlJve12c61ti"
      },
      "outputs": [
        {
          "name": "stdout",
          "output_type": "stream",
          "text": [
            "[33381 49557 42078 16341 31773 27412 30671 40583 56525 25765  3523 53729 39716 52650 41298 40952 26028 34624 59675 56293 11823 42569 49156 24305 16886]\n"
          ]
        }
      ],
      "source": [
        "random_index = np.random.choice(len(x_train), 25)\n",
        "print(random_index)"
      ]
    },
    {
      "cell_type": "code",
      "execution_count": 29,
      "metadata": {
        "id": "ZDK7gUb161ti"
      },
      "outputs": [
        {
          "data": {
            "image/png": "[encoded data removed]",
            "text/plain": [
              "<Figure size 1000x1000 with 25 Axes>"
            ]
          },
          "metadata": {},
          "output_type": "display_data"
        }
      ],
      "source": [
        "plt.figure(figsize=(10,10))\n",
        "\n",
        "for i in range(25):\n",
        "    plt.subplot(5,5,i+1)\n",
        "    plt.xticks([])\n",
        "    plt.yticks([])\n",
        "    plt.imshow(x_train[random_index[i]][0], cmap=plt.cm.binary)\n",
        "\n",
        "plt.show()"
      ]
    },
    {
      "cell_type": "code",
      "execution_count": null,
      "metadata": {
        "id": "LCFPrEet61ti"
      },
      "outputs": [],
      "source": []
    }
  ],
  "metadata": {
    "colab": {
      "provenance": []
    },
    "kernelspec": {
      "display_name": "Python 3 (ipykernel)",
      "language": "python",
      "name": "python3"
    },
    "language_info": {
      "codemirror_mode": {
        "name": "ipython",
        "version": 3
      },
      "file_extension": ".py",
      "mimetype": "text/x-python",
      "name": "python",
      "nbconvert_exporter": "python",
      "pygments_lexer": "ipython3",
      "version": "3.10.14"
    }
  },
  "nbformat": 4,
  "nbformat_minor": 0
}
